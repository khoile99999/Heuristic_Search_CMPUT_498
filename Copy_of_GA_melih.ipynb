{
  "cells": [
    {
      "cell_type": "markdown",
      "metadata": {
        "id": "view-in-github",
        "colab_type": "text"
      },
      "source": [
        "<a href=\"https://colab.research.google.com/github/khoile99999/Heuristic_Search_CMPUT_498/blob/main/Copy_of_GA_melih.ipynb\" target=\"_parent\"><img src=\"https://colab.research.google.com/assets/colab-badge.svg\" alt=\"Open In Colab\"/></a>"
      ]
    },
    {
      "cell_type": "markdown",
      "metadata": {
        "id": "4EBFb7QCU_xF"
      },
      "source": [
        "## Installing the Dataset"
      ]
    },
    {
      "cell_type": "code",
      "execution_count": null,
      "metadata": {
        "colab": {
          "base_uri": "https://localhost:8080/"
        },
        "id": "TefoMdqIHHx7",
        "outputId": "67c848e0-2810-46f5-9ed3-4411cf3eb389"
      },
      "outputs": [
        {
          "output_type": "stream",
          "name": "stdout",
          "text": [
            "Collecting maze-dataset\n",
            "  Downloading maze_dataset-0.4.5-py3-none-any.whl (53 kB)\n",
            "\u001b[2K     \u001b[90m━━━━━━━━━━━━━━━━━━━━━━━━━━━━━━━━━━━━━━━━\u001b[0m \u001b[32m53.4/53.4 kB\u001b[0m \u001b[31m956.5 kB/s\u001b[0m eta \u001b[36m0:00:00\u001b[0m\n",
            "\u001b[?25hCollecting ipykernel<7.0.0,>=6.22.0 (from maze-dataset)\n",
            "  Downloading ipykernel-6.27.1-py3-none-any.whl (114 kB)\n",
            "\u001b[2K     \u001b[90m━━━━━━━━━━━━━━━━━━━━━━━━━━━━━━━━━━━━━━━━\u001b[0m \u001b[32m114.6/114.6 kB\u001b[0m \u001b[31m4.5 MB/s\u001b[0m eta \u001b[36m0:00:00\u001b[0m\n",
            "\u001b[?25hCollecting jaxtyping<0.3.0,>=0.2.19 (from maze-dataset)\n",
            "  Downloading jaxtyping-0.2.24-py3-none-any.whl (38 kB)\n",
            "Collecting jupyter<2.0.0,>=1.0.0 (from maze-dataset)\n",
            "  Downloading jupyter-1.0.0-py2.py3-none-any.whl (2.7 kB)\n",
            "Requirement already satisfied: matplotlib<4.0.0,>=3.7.0 in /usr/local/lib/python3.10/dist-packages (from maze-dataset) (3.7.1)\n",
            "Collecting muutils<0.6.0,>=0.5.1 (from maze-dataset)\n",
            "  Downloading muutils-0.5.5-py3-none-any.whl (82 kB)\n",
            "\u001b[2K     \u001b[90m━━━━━━━━━━━━━━━━━━━━━━━━━━━━━━━━━━━━━━━━\u001b[0m \u001b[32m82.9/82.9 kB\u001b[0m \u001b[31m5.8 MB/s\u001b[0m eta \u001b[36m0:00:00\u001b[0m\n",
            "\u001b[?25hRequirement already satisfied: torch>=1.13.1 in /usr/local/lib/python3.10/dist-packages (from maze-dataset) (2.1.0+cu118)\n",
            "Requirement already satisfied: tqdm<5.0.0,>=4.65.0 in /usr/local/lib/python3.10/dist-packages (from maze-dataset) (4.66.1)\n",
            "Collecting zanj<0.3.0,>=0.2.0 (from maze-dataset)\n",
            "  Downloading zanj-0.2.0-py3-none-any.whl (32 kB)\n",
            "Collecting comm>=0.1.1 (from ipykernel<7.0.0,>=6.22.0->maze-dataset)\n",
            "  Downloading comm-0.2.0-py3-none-any.whl (7.0 kB)\n",
            "Requirement already satisfied: debugpy>=1.6.5 in /usr/local/lib/python3.10/dist-packages (from ipykernel<7.0.0,>=6.22.0->maze-dataset) (1.6.6)\n",
            "Requirement already satisfied: ipython>=7.23.1 in /usr/local/lib/python3.10/dist-packages (from ipykernel<7.0.0,>=6.22.0->maze-dataset) (7.34.0)\n",
            "Requirement already satisfied: jupyter-client>=6.1.12 in /usr/local/lib/python3.10/dist-packages (from ipykernel<7.0.0,>=6.22.0->maze-dataset) (6.1.12)\n",
            "Requirement already satisfied: jupyter-core!=5.0.*,>=4.12 in /usr/local/lib/python3.10/dist-packages (from ipykernel<7.0.0,>=6.22.0->maze-dataset) (5.5.0)\n",
            "Requirement already satisfied: matplotlib-inline>=0.1 in /usr/local/lib/python3.10/dist-packages (from ipykernel<7.0.0,>=6.22.0->maze-dataset) (0.1.6)\n",
            "Requirement already satisfied: nest-asyncio in /usr/local/lib/python3.10/dist-packages (from ipykernel<7.0.0,>=6.22.0->maze-dataset) (1.5.8)\n",
            "Requirement already satisfied: packaging in /usr/local/lib/python3.10/dist-packages (from ipykernel<7.0.0,>=6.22.0->maze-dataset) (23.2)\n",
            "Requirement already satisfied: psutil in /usr/local/lib/python3.10/dist-packages (from ipykernel<7.0.0,>=6.22.0->maze-dataset) (5.9.5)\n",
            "Requirement already satisfied: pyzmq>=20 in /usr/local/lib/python3.10/dist-packages (from ipykernel<7.0.0,>=6.22.0->maze-dataset) (23.2.1)\n",
            "Requirement already satisfied: tornado>=6.1 in /usr/local/lib/python3.10/dist-packages (from ipykernel<7.0.0,>=6.22.0->maze-dataset) (6.3.2)\n",
            "Requirement already satisfied: traitlets>=5.4.0 in /usr/local/lib/python3.10/dist-packages (from ipykernel<7.0.0,>=6.22.0->maze-dataset) (5.7.1)\n",
            "Requirement already satisfied: numpy>=1.20.0 in /usr/local/lib/python3.10/dist-packages (from jaxtyping<0.3.0,>=0.2.19->maze-dataset) (1.23.5)\n",
            "Collecting typeguard<3,>=2.13.3 (from jaxtyping<0.3.0,>=0.2.19->maze-dataset)\n",
            "  Downloading typeguard-2.13.3-py3-none-any.whl (17 kB)\n",
            "Requirement already satisfied: typing-extensions>=3.7.4.1 in /usr/local/lib/python3.10/dist-packages (from jaxtyping<0.3.0,>=0.2.19->maze-dataset) (4.5.0)\n",
            "Requirement already satisfied: notebook in /usr/local/lib/python3.10/dist-packages (from jupyter<2.0.0,>=1.0.0->maze-dataset) (6.5.5)\n",
            "Collecting qtconsole (from jupyter<2.0.0,>=1.0.0->maze-dataset)\n",
            "  Downloading qtconsole-5.5.1-py3-none-any.whl (123 kB)\n",
            "\u001b[2K     \u001b[90m━━━━━━━━━━━━━━━━━━━━━━━━━━━━━━━━━━━━━━━━\u001b[0m \u001b[32m123.4/123.4 kB\u001b[0m \u001b[31m4.7 MB/s\u001b[0m eta \u001b[36m0:00:00\u001b[0m\n",
            "\u001b[?25hRequirement already satisfied: jupyter-console in /usr/local/lib/python3.10/dist-packages (from jupyter<2.0.0,>=1.0.0->maze-dataset) (6.1.0)\n",
            "Requirement already satisfied: nbconvert in /usr/local/lib/python3.10/dist-packages (from jupyter<2.0.0,>=1.0.0->maze-dataset) (6.5.4)\n",
            "Requirement already satisfied: ipywidgets in /usr/local/lib/python3.10/dist-packages (from jupyter<2.0.0,>=1.0.0->maze-dataset) (7.7.1)\n",
            "Requirement already satisfied: contourpy>=1.0.1 in /usr/local/lib/python3.10/dist-packages (from matplotlib<4.0.0,>=3.7.0->maze-dataset) (1.2.0)\n",
            "Requirement already satisfied: cycler>=0.10 in /usr/local/lib/python3.10/dist-packages (from matplotlib<4.0.0,>=3.7.0->maze-dataset) (0.12.1)\n",
            "Requirement already satisfied: fonttools>=4.22.0 in /usr/local/lib/python3.10/dist-packages (from matplotlib<4.0.0,>=3.7.0->maze-dataset) (4.46.0)\n",
            "Requirement already satisfied: kiwisolver>=1.0.1 in /usr/local/lib/python3.10/dist-packages (from matplotlib<4.0.0,>=3.7.0->maze-dataset) (1.4.5)\n",
            "Requirement already satisfied: pillow>=6.2.0 in /usr/local/lib/python3.10/dist-packages (from matplotlib<4.0.0,>=3.7.0->maze-dataset) (9.4.0)\n",
            "Requirement already satisfied: pyparsing>=2.3.1 in /usr/local/lib/python3.10/dist-packages (from matplotlib<4.0.0,>=3.7.0->maze-dataset) (3.1.1)\n",
            "Requirement already satisfied: python-dateutil>=2.7 in /usr/local/lib/python3.10/dist-packages (from matplotlib<4.0.0,>=3.7.0->maze-dataset) (2.8.2)\n",
            "Requirement already satisfied: filelock in /usr/local/lib/python3.10/dist-packages (from torch>=1.13.1->maze-dataset) (3.13.1)\n",
            "Requirement already satisfied: sympy in /usr/local/lib/python3.10/dist-packages (from torch>=1.13.1->maze-dataset) (1.12)\n",
            "Requirement already satisfied: networkx in /usr/local/lib/python3.10/dist-packages (from torch>=1.13.1->maze-dataset) (3.2.1)\n",
            "Requirement already satisfied: jinja2 in /usr/local/lib/python3.10/dist-packages (from torch>=1.13.1->maze-dataset) (3.1.2)\n",
            "Requirement already satisfied: fsspec in /usr/local/lib/python3.10/dist-packages (from torch>=1.13.1->maze-dataset) (2023.6.0)\n",
            "Requirement already satisfied: triton==2.1.0 in /usr/local/lib/python3.10/dist-packages (from torch>=1.13.1->maze-dataset) (2.1.0)\n",
            "Requirement already satisfied: pandas<2.0.0,>=1.5.3 in /usr/local/lib/python3.10/dist-packages (from zanj<0.3.0,>=0.2.0->maze-dataset) (1.5.3)\n",
            "Requirement already satisfied: setuptools>=18.5 in /usr/local/lib/python3.10/dist-packages (from ipython>=7.23.1->ipykernel<7.0.0,>=6.22.0->maze-dataset) (67.7.2)\n",
            "Collecting jedi>=0.16 (from ipython>=7.23.1->ipykernel<7.0.0,>=6.22.0->maze-dataset)\n",
            "  Downloading jedi-0.19.1-py2.py3-none-any.whl (1.6 MB)\n",
            "\u001b[2K     \u001b[90m━━━━━━━━━━━━━━━━━━━━━━━━━━━━━━━━━━━━━━━━\u001b[0m \u001b[32m1.6/1.6 MB\u001b[0m \u001b[31m9.2 MB/s\u001b[0m eta \u001b[36m0:00:00\u001b[0m\n",
            "\u001b[?25hRequirement already satisfied: decorator in /usr/local/lib/python3.10/dist-packages (from ipython>=7.23.1->ipykernel<7.0.0,>=6.22.0->maze-dataset) (4.4.2)\n",
            "Requirement already satisfied: pickleshare in /usr/local/lib/python3.10/dist-packages (from ipython>=7.23.1->ipykernel<7.0.0,>=6.22.0->maze-dataset) (0.7.5)\n",
            "Requirement already satisfied: prompt-toolkit!=3.0.0,!=3.0.1,<3.1.0,>=2.0.0 in /usr/local/lib/python3.10/dist-packages (from ipython>=7.23.1->ipykernel<7.0.0,>=6.22.0->maze-dataset) (3.0.41)\n",
            "Requirement already satisfied: pygments in /usr/local/lib/python3.10/dist-packages (from ipython>=7.23.1->ipykernel<7.0.0,>=6.22.0->maze-dataset) (2.16.1)\n",
            "Requirement already satisfied: backcall in /usr/local/lib/python3.10/dist-packages (from ipython>=7.23.1->ipykernel<7.0.0,>=6.22.0->maze-dataset) (0.2.0)\n",
            "Requirement already satisfied: pexpect>4.3 in /usr/local/lib/python3.10/dist-packages (from ipython>=7.23.1->ipykernel<7.0.0,>=6.22.0->maze-dataset) (4.9.0)\n",
            "Requirement already satisfied: platformdirs>=2.5 in /usr/local/lib/python3.10/dist-packages (from jupyter-core!=5.0.*,>=4.12->ipykernel<7.0.0,>=6.22.0->maze-dataset) (4.1.0)\n",
            "Requirement already satisfied: pytz>=2020.1 in /usr/local/lib/python3.10/dist-packages (from pandas<2.0.0,>=1.5.3->zanj<0.3.0,>=0.2.0->maze-dataset) (2023.3.post1)\n",
            "Requirement already satisfied: six>=1.5 in /usr/local/lib/python3.10/dist-packages (from python-dateutil>=2.7->matplotlib<4.0.0,>=3.7.0->maze-dataset) (1.16.0)\n",
            "Requirement already satisfied: ipython-genutils~=0.2.0 in /usr/local/lib/python3.10/dist-packages (from ipywidgets->jupyter<2.0.0,>=1.0.0->maze-dataset) (0.2.0)\n",
            "Requirement already satisfied: widgetsnbextension~=3.6.0 in /usr/local/lib/python3.10/dist-packages (from ipywidgets->jupyter<2.0.0,>=1.0.0->maze-dataset) (3.6.6)\n",
            "Requirement already satisfied: jupyterlab-widgets>=1.0.0 in /usr/local/lib/python3.10/dist-packages (from ipywidgets->jupyter<2.0.0,>=1.0.0->maze-dataset) (3.0.9)\n",
            "Requirement already satisfied: MarkupSafe>=2.0 in /usr/local/lib/python3.10/dist-packages (from jinja2->torch>=1.13.1->maze-dataset) (2.1.3)\n",
            "Requirement already satisfied: lxml in /usr/local/lib/python3.10/dist-packages (from nbconvert->jupyter<2.0.0,>=1.0.0->maze-dataset) (4.9.3)\n",
            "Requirement already satisfied: beautifulsoup4 in /usr/local/lib/python3.10/dist-packages (from nbconvert->jupyter<2.0.0,>=1.0.0->maze-dataset) (4.11.2)\n",
            "Requirement already satisfied: bleach in /usr/local/lib/python3.10/dist-packages (from nbconvert->jupyter<2.0.0,>=1.0.0->maze-dataset) (6.1.0)\n",
            "Requirement already satisfied: defusedxml in /usr/local/lib/python3.10/dist-packages (from nbconvert->jupyter<2.0.0,>=1.0.0->maze-dataset) (0.7.1)\n",
            "Requirement already satisfied: entrypoints>=0.2.2 in /usr/local/lib/python3.10/dist-packages (from nbconvert->jupyter<2.0.0,>=1.0.0->maze-dataset) (0.4)\n",
            "Requirement already satisfied: jupyterlab-pygments in /usr/local/lib/python3.10/dist-packages (from nbconvert->jupyter<2.0.0,>=1.0.0->maze-dataset) (0.3.0)\n",
            "Requirement already satisfied: mistune<2,>=0.8.1 in /usr/local/lib/python3.10/dist-packages (from nbconvert->jupyter<2.0.0,>=1.0.0->maze-dataset) (0.8.4)\n",
            "Requirement already satisfied: nbclient>=0.5.0 in /usr/local/lib/python3.10/dist-packages (from nbconvert->jupyter<2.0.0,>=1.0.0->maze-dataset) (0.9.0)\n",
            "Requirement already satisfied: nbformat>=5.1 in /usr/local/lib/python3.10/dist-packages (from nbconvert->jupyter<2.0.0,>=1.0.0->maze-dataset) (5.9.2)\n",
            "Requirement already satisfied: pandocfilters>=1.4.1 in /usr/local/lib/python3.10/dist-packages (from nbconvert->jupyter<2.0.0,>=1.0.0->maze-dataset) (1.5.0)\n",
            "Requirement already satisfied: tinycss2 in /usr/local/lib/python3.10/dist-packages (from nbconvert->jupyter<2.0.0,>=1.0.0->maze-dataset) (1.2.1)\n",
            "Requirement already satisfied: argon2-cffi in /usr/local/lib/python3.10/dist-packages (from notebook->jupyter<2.0.0,>=1.0.0->maze-dataset) (23.1.0)\n",
            "Requirement already satisfied: Send2Trash>=1.8.0 in /usr/local/lib/python3.10/dist-packages (from notebook->jupyter<2.0.0,>=1.0.0->maze-dataset) (1.8.2)\n",
            "Requirement already satisfied: terminado>=0.8.3 in /usr/local/lib/python3.10/dist-packages (from notebook->jupyter<2.0.0,>=1.0.0->maze-dataset) (0.18.0)\n",
            "Requirement already satisfied: prometheus-client in /usr/local/lib/python3.10/dist-packages (from notebook->jupyter<2.0.0,>=1.0.0->maze-dataset) (0.19.0)\n",
            "Requirement already satisfied: nbclassic>=0.4.7 in /usr/local/lib/python3.10/dist-packages (from notebook->jupyter<2.0.0,>=1.0.0->maze-dataset) (1.0.0)\n",
            "Collecting qtpy>=2.4.0 (from qtconsole->jupyter<2.0.0,>=1.0.0->maze-dataset)\n",
            "  Downloading QtPy-2.4.1-py3-none-any.whl (93 kB)\n",
            "\u001b[2K     \u001b[90m━━━━━━━━━━━━━━━━━━━━━━━━━━━━━━━━━━━━━━━━\u001b[0m \u001b[32m93.5/93.5 kB\u001b[0m \u001b[31m9.5 MB/s\u001b[0m eta \u001b[36m0:00:00\u001b[0m\n",
            "\u001b[?25hRequirement already satisfied: mpmath>=0.19 in /usr/local/lib/python3.10/dist-packages (from sympy->torch>=1.13.1->maze-dataset) (1.3.0)\n",
            "Requirement already satisfied: parso<0.9.0,>=0.8.3 in /usr/local/lib/python3.10/dist-packages (from jedi>=0.16->ipython>=7.23.1->ipykernel<7.0.0,>=6.22.0->maze-dataset) (0.8.3)\n",
            "Requirement already satisfied: jupyter-server>=1.8 in /usr/local/lib/python3.10/dist-packages (from nbclassic>=0.4.7->notebook->jupyter<2.0.0,>=1.0.0->maze-dataset) (1.24.0)\n",
            "Requirement already satisfied: notebook-shim>=0.2.3 in /usr/local/lib/python3.10/dist-packages (from nbclassic>=0.4.7->notebook->jupyter<2.0.0,>=1.0.0->maze-dataset) (0.2.3)\n",
            "Requirement already satisfied: fastjsonschema in /usr/local/lib/python3.10/dist-packages (from nbformat>=5.1->nbconvert->jupyter<2.0.0,>=1.0.0->maze-dataset) (2.19.0)\n",
            "Requirement already satisfied: jsonschema>=2.6 in /usr/local/lib/python3.10/dist-packages (from nbformat>=5.1->nbconvert->jupyter<2.0.0,>=1.0.0->maze-dataset) (4.19.2)\n",
            "Requirement already satisfied: ptyprocess>=0.5 in /usr/local/lib/python3.10/dist-packages (from pexpect>4.3->ipython>=7.23.1->ipykernel<7.0.0,>=6.22.0->maze-dataset) (0.7.0)\n",
            "Requirement already satisfied: wcwidth in /usr/local/lib/python3.10/dist-packages (from prompt-toolkit!=3.0.0,!=3.0.1,<3.1.0,>=2.0.0->ipython>=7.23.1->ipykernel<7.0.0,>=6.22.0->maze-dataset) (0.2.12)\n",
            "Requirement already satisfied: argon2-cffi-bindings in /usr/local/lib/python3.10/dist-packages (from argon2-cffi->notebook->jupyter<2.0.0,>=1.0.0->maze-dataset) (21.2.0)\n",
            "Requirement already satisfied: soupsieve>1.2 in /usr/local/lib/python3.10/dist-packages (from beautifulsoup4->nbconvert->jupyter<2.0.0,>=1.0.0->maze-dataset) (2.5)\n",
            "Requirement already satisfied: webencodings in /usr/local/lib/python3.10/dist-packages (from bleach->nbconvert->jupyter<2.0.0,>=1.0.0->maze-dataset) (0.5.1)\n",
            "Requirement already satisfied: attrs>=22.2.0 in /usr/local/lib/python3.10/dist-packages (from jsonschema>=2.6->nbformat>=5.1->nbconvert->jupyter<2.0.0,>=1.0.0->maze-dataset) (23.1.0)\n",
            "Requirement already satisfied: jsonschema-specifications>=2023.03.6 in /usr/local/lib/python3.10/dist-packages (from jsonschema>=2.6->nbformat>=5.1->nbconvert->jupyter<2.0.0,>=1.0.0->maze-dataset) (2023.11.2)\n",
            "Requirement already satisfied: referencing>=0.28.4 in /usr/local/lib/python3.10/dist-packages (from jsonschema>=2.6->nbformat>=5.1->nbconvert->jupyter<2.0.0,>=1.0.0->maze-dataset) (0.31.1)\n",
            "Requirement already satisfied: rpds-py>=0.7.1 in /usr/local/lib/python3.10/dist-packages (from jsonschema>=2.6->nbformat>=5.1->nbconvert->jupyter<2.0.0,>=1.0.0->maze-dataset) (0.13.2)\n",
            "Requirement already satisfied: anyio<4,>=3.1.0 in /usr/local/lib/python3.10/dist-packages (from jupyter-server>=1.8->nbclassic>=0.4.7->notebook->jupyter<2.0.0,>=1.0.0->maze-dataset) (3.7.1)\n",
            "Requirement already satisfied: websocket-client in /usr/local/lib/python3.10/dist-packages (from jupyter-server>=1.8->nbclassic>=0.4.7->notebook->jupyter<2.0.0,>=1.0.0->maze-dataset) (1.7.0)\n",
            "Requirement already satisfied: cffi>=1.0.1 in /usr/local/lib/python3.10/dist-packages (from argon2-cffi-bindings->argon2-cffi->notebook->jupyter<2.0.0,>=1.0.0->maze-dataset) (1.16.0)\n",
            "Requirement already satisfied: idna>=2.8 in /usr/local/lib/python3.10/dist-packages (from anyio<4,>=3.1.0->jupyter-server>=1.8->nbclassic>=0.4.7->notebook->jupyter<2.0.0,>=1.0.0->maze-dataset) (3.6)\n",
            "Requirement already satisfied: sniffio>=1.1 in /usr/local/lib/python3.10/dist-packages (from anyio<4,>=3.1.0->jupyter-server>=1.8->nbclassic>=0.4.7->notebook->jupyter<2.0.0,>=1.0.0->maze-dataset) (1.3.0)\n",
            "Requirement already satisfied: exceptiongroup in /usr/local/lib/python3.10/dist-packages (from anyio<4,>=3.1.0->jupyter-server>=1.8->nbclassic>=0.4.7->notebook->jupyter<2.0.0,>=1.0.0->maze-dataset) (1.2.0)\n",
            "Requirement already satisfied: pycparser in /usr/local/lib/python3.10/dist-packages (from cffi>=1.0.1->argon2-cffi-bindings->argon2-cffi->notebook->jupyter<2.0.0,>=1.0.0->maze-dataset) (2.21)\n",
            "Installing collected packages: typeguard, qtpy, muutils, jedi, comm, jaxtyping, ipykernel, zanj, qtconsole, jupyter, maze-dataset\n",
            "  Attempting uninstall: ipykernel\n",
            "    Found existing installation: ipykernel 5.5.6\n",
            "    Uninstalling ipykernel-5.5.6:\n",
            "      Successfully uninstalled ipykernel-5.5.6\n",
            "\u001b[31mERROR: pip's dependency resolver does not currently take into account all the packages that are installed. This behaviour is the source of the following dependency conflicts.\n",
            "google-colab 1.0.0 requires ipykernel==5.5.6, but you have ipykernel 6.27.1 which is incompatible.\u001b[0m\u001b[31m\n",
            "\u001b[0mSuccessfully installed comm-0.2.0 ipykernel-6.27.1 jaxtyping-0.2.24 jedi-0.19.1 jupyter-1.0.0 maze-dataset-0.4.5 muutils-0.5.5 qtconsole-5.5.1 qtpy-2.4.1 typeguard-2.13.3 zanj-0.2.0\n"
          ]
        }
      ],
      "source": [
        "!pip install maze-dataset"
      ]
    },
    {
      "cell_type": "code",
      "execution_count": null,
      "metadata": {
        "colab": {
          "base_uri": "https://localhost:8080/"
        },
        "id": "qTq6i-iZSrqX",
        "outputId": "8e14c6fb-2863-488f-d797-f136beb40951"
      },
      "outputs": [
        {
          "output_type": "stream",
          "name": "stdout",
          "text": [
            "Mounted at /content/drive\n"
          ]
        }
      ],
      "source": [
        "from google.colab import drive\n",
        "drive.mount('/content/drive')"
      ]
    },
    {
      "cell_type": "code",
      "execution_count": null,
      "metadata": {
        "colab": {
          "base_uri": "https://localhost:8080/"
        },
        "id": "ngRZ0aO_Syxs",
        "outputId": "64bb385b-6d9e-42ac-8b2d-f220cee47b7b"
      },
      "outputs": [
        {
          "output_type": "stream",
          "name": "stdout",
          "text": [
            "/content/drive/My Drive/498-presentation\n"
          ]
        }
      ],
      "source": [
        "%cd \"drive/My Drive/498-presentation/\""
      ]
    },
    {
      "cell_type": "markdown",
      "metadata": {
        "id": "CrIFRd9ZSfyL"
      },
      "source": [
        "https://github.com/understanding-search/maze-dataset"
      ]
    },
    {
      "cell_type": "code",
      "execution_count": null,
      "metadata": {
        "id": "x0sm3swnSN3a",
        "colab": {
          "base_uri": "https://localhost:8080/"
        },
        "outputId": "6a20b187-9aaa-432c-a44a-c5be66fc2be8"
      },
      "outputs": [
        {
          "output_type": "stream",
          "name": "stderr",
          "text": [
            "/usr/local/lib/python3.10/dist-packages/_distutils_hack/__init__.py:33: UserWarning: Setuptools is replacing distutils.\n",
            "  warnings.warn(\"Setuptools is replacing distutils.\")\n"
          ]
        }
      ],
      "source": [
        "from maze_dataset import MazeDataset, MazeDatasetConfig\n",
        "from maze_dataset.generation import LatticeMazeGenerators\n",
        "from maze_dataset import MazeDataset, MazeDatasetConfig, LatticeMazeGenerators, SolvedMaze\n",
        "from maze_dataset.tokenization import MazeTokenizer, TokenizationMode\n",
        "from maze_dataset.plotting import plot_dataset_mazes\n",
        "from maze_dataset.plotting.print_tokens import display_color_tokens_rgb, display_color_tokens_cmap, display_color_maze_tokens_AOTP\n",
        "from maze_dataset.utils import corner_first_ndindex\n",
        "import numpy as np\n",
        "import math\n",
        "\n",
        "n_mazes = 500\n",
        "maze_size = 10\n",
        "cfg: MazeDatasetConfig = MazeDatasetConfig(\n",
        "\tname=\"main\", # name is only for you to keep track of things\n",
        "\tgrid_n=maze_size, # number of rows/columns in the lattice\n",
        "\tn_mazes=n_mazes, # number of mazes to generate\n",
        "\tmaze_ctor=LatticeMazeGenerators.gen_dfs_percolation, # algorithm to generate the maze\n",
        "    maze_ctor_kwargs=dict(p=0.3), # additional parameters to pass to the maze generation algorithm\n",
        ")"
      ]
    },
    {
      "cell_type": "code",
      "execution_count": null,
      "metadata": {
        "id": "GCacBiWxSLsu"
      },
      "outputs": [],
      "source": [
        "dataset: MazeDataset = MazeDataset.from_config(\n",
        "    # your config\n",
        "\tcfg,\n",
        "    # and all this below is completely optional\n",
        "\t# do_download=False,\n",
        "\t# load_local=False,\n",
        "\t# do_generate=True,\n",
        "    # save_local=True,\n",
        "\t# gen_parallel=False,\n",
        ")"
      ]
    },
    {
      "cell_type": "code",
      "execution_count": null,
      "metadata": {
        "colab": {
          "base_uri": "https://localhost:8080/"
        },
        "id": "rEahZRRQSaWd",
        "outputId": "05ee22c0-cba1-4e06-ee70-89bfa61b2e92"
      },
      "outputs": [
        {
          "output_type": "execute_result",
          "data": {
            "text/plain": [
              "500"
            ]
          },
          "metadata": {},
          "execution_count": 6
        }
      ],
      "source": [
        "len(dataset)"
      ]
    },
    {
      "cell_type": "code",
      "execution_count": null,
      "metadata": {
        "id": "Wxi-poUEfGbr"
      },
      "outputs": [],
      "source": [
        "# plot_dataset_mazes(dataset)"
      ]
    },
    {
      "cell_type": "markdown",
      "metadata": {
        "id": "eHKvqafebOhU"
      },
      "source": [
        "Visualizing a maze"
      ]
    },
    {
      "cell_type": "code",
      "execution_count": null,
      "metadata": {
        "colab": {
          "base_uri": "https://localhost:8080/",
          "height": 449
        },
        "id": "fm3sf1wQa_0M",
        "outputId": "57915e7b-cd2e-408d-c835-5134d543cc87"
      },
      "outputs": [
        {
          "output_type": "display_data",
          "data": {
            "text/plain": [
              "<Figure size 640x480 with 1 Axes>"
            ],
            "image/png": "[encoded data removed]"
          },
          "metadata": {}
        }
      ],
      "source": [
        "# advanced visualization with many features\n",
        "from maze_dataset.plotting import MazePlot\n",
        "MazePlot(dataset[4]).plot()"
      ]
    },
    {
      "cell_type": "code",
      "execution_count": null,
      "metadata": {
        "colab": {
          "base_uri": "https://localhost:8080/"
        },
        "id": "wY0iwajvZ-ng",
        "outputId": "a0f99725-b1dd-4d9c-bbcb-dd2fa95aef49"
      },
      "outputs": [
        {
          "output_type": "execute_result",
          "data": {
            "text/plain": [
              "array([[False,  True,  True,  True, False,  True,  True,  True,  True,\n",
              "         True],\n",
              "       [ True, False,  True,  True,  True, False,  True,  True, False,\n",
              "         True],\n",
              "       [ True,  True, False,  True,  True,  True, False, False,  True,\n",
              "         True],\n",
              "       [ True,  True,  True,  True,  True,  True,  True,  True,  True,\n",
              "        False],\n",
              "       [ True,  True,  True, False,  True,  True, False,  True, False,\n",
              "         True],\n",
              "       [ True,  True, False,  True, False,  True,  True, False,  True,\n",
              "         True],\n",
              "       [ True, False,  True, False,  True, False, False,  True,  True,\n",
              "         True],\n",
              "       [ True,  True, False,  True, False,  True,  True,  True, False,\n",
              "        False],\n",
              "       [ True,  True, False, False,  True,  True,  True,  True, False,\n",
              "         True],\n",
              "       [False, False, False, False, False, False, False, False, False,\n",
              "        False]])"
            ]
          },
          "metadata": {},
          "execution_count": 9
        }
      ],
      "source": [
        "dataset[4].connection_list[0] # DOWN AND UP CONNECTIONS. If true, it means you can pass."
      ]
    },
    {
      "cell_type": "code",
      "execution_count": null,
      "metadata": {
        "colab": {
          "base_uri": "https://localhost:8080/"
        },
        "id": "hZeP74HpYAkq",
        "outputId": "1953da8d-b989-4dc3-cbea-dce988b4664c"
      },
      "outputs": [
        {
          "output_type": "execute_result",
          "data": {
            "text/plain": [
              "array([[ True, False,  True,  True, False,  True,  True, False,  True,\n",
              "        False],\n",
              "       [ True,  True, False,  True,  True, False, False, False, False,\n",
              "        False],\n",
              "       [ True,  True, False,  True,  True,  True, False,  True,  True,\n",
              "        False],\n",
              "       [ True,  True, False,  True, False, False,  True, False,  True,\n",
              "        False],\n",
              "       [ True, False,  True,  True,  True,  True, False, False,  True,\n",
              "        False],\n",
              "       [False,  True, False,  True,  True, False,  True, False,  True,\n",
              "        False],\n",
              "       [ True, False, False,  True,  True,  True, False,  True,  True,\n",
              "        False],\n",
              "       [ True,  True,  True, False,  True, False,  True,  True,  True,\n",
              "        False],\n",
              "       [False,  True,  True,  True, False,  True, False,  True,  True,\n",
              "        False],\n",
              "       [ True,  True,  True,  True, False,  True, False,  True,  True,\n",
              "        False]])"
            ]
          },
          "metadata": {},
          "execution_count": 10
        }
      ],
      "source": [
        "dataset[4].connection_list[1] # SIDEWAYS CONNECTIONS. If ture, it means you can pass."
      ]
    },
    {
      "cell_type": "markdown",
      "metadata": {
        "id": "Zm2fKe9VaNNa"
      },
      "source": [
        "Getting the start state for the first map"
      ]
    },
    {
      "cell_type": "code",
      "execution_count": null,
      "metadata": {
        "colab": {
          "base_uri": "https://localhost:8080/"
        },
        "id": "IuUQiteTjL51",
        "outputId": "7ef577e1-b971-4efd-a950-f3f79db74bc3"
      },
      "outputs": [
        {
          "output_type": "execute_result",
          "data": {
            "text/plain": [
              "array([3, 3])"
            ]
          },
          "metadata": {},
          "execution_count": 11
        }
      ],
      "source": [
        "dataset[4].start_pos"
      ]
    },
    {
      "cell_type": "markdown",
      "metadata": {
        "id": "GwZeRYueaPiD"
      },
      "source": [
        "Getting the goal state for the first map"
      ]
    },
    {
      "cell_type": "code",
      "execution_count": null,
      "metadata": {
        "colab": {
          "base_uri": "https://localhost:8080/"
        },
        "id": "3Xp2zlAAaRtk",
        "outputId": "ecb62779-5d58-4262-80aa-0975300a0cee"
      },
      "outputs": [
        {
          "output_type": "execute_result",
          "data": {
            "text/plain": [
              "array([0, 0])"
            ]
          },
          "metadata": {},
          "execution_count": 12
        }
      ],
      "source": [
        "dataset[4].end_pos"
      ]
    },
    {
      "cell_type": "code",
      "execution_count": null,
      "metadata": {
        "id": "FNJ0PDCXSt4o"
      },
      "outputs": [],
      "source": [
        "a = True\n",
        "\n",
        "if a == 0:\n",
        "    print(\"a\")"
      ]
    },
    {
      "cell_type": "markdown",
      "metadata": {
        "id": "9KzaK3BbVDhW"
      },
      "source": [
        "## Implementing A*"
      ]
    },
    {
      "cell_type": "code",
      "execution_count": null,
      "metadata": {
        "id": "PmvjxxNLMbos"
      },
      "outputs": [],
      "source": [
        "import random\n",
        "import operator\n",
        "import math\n",
        "import re\n",
        "import numpy as np\n",
        "\n",
        "# The grammar\n",
        "C = ['1','2','3','4','5','6']\n",
        "T = [\"x\", \"y\", \"xg\", \"yg\", \"delta_x\", \"delta_y\", \"1\", \"2\", \"3\", \"4\", \"5\", \"6\"]\n",
        "U = [\"sqrt\", \"abs\", \"neg\", \"square\", \"nothing\"]\n",
        "B = [\"add\", \"sub\", \"mul\", \"div\", \"max\", \"min\"]\n",
        "\n",
        "# Define the operators\n",
        "operators = {\n",
        "    'add': operator.add,\n",
        "    'sub': operator.sub,\n",
        "    'mul': operator.mul,\n",
        "    'div': operator.truediv,\n",
        "    'sqrt': math.sqrt,\n",
        "    'abs': abs,\n",
        "    'neg': operator.neg,\n",
        "    'square': np.square,\n",
        "    'nothing': lambda x: x,\n",
        "    'min': min,\n",
        "    'max': max\n",
        "}\n",
        "\n",
        "def calculate_heuristic(s, x, y, xg, yg):\n",
        "\n",
        "    values = {\"x\":x, \"y\":y, \"xg\":xg, \"yg\":yg, \"delta_x\":abs(x-xg), \"delta_y\":abs(y-yg), \"1\":1, \"2\":2, \"3\":3, \"4\":4, \"5\":5, \"6\":6}\n",
        "    # Define a regular expression pattern to match tokens\n",
        "    pattern = r'[a-zA-Z_]\\w*|\\b\\w+\\b'\n",
        "\n",
        "    # Use re.findall to find all matching tokens in the input string\n",
        "    tokens = re.findall(pattern, s)\n",
        "\n",
        "    print(tokens)\n",
        "\n",
        "    t1_1_val = operators[tokens[2]](values[tokens[3]])\n",
        "    t1_2_val = operators[tokens[4]](values[tokens[5]])\n",
        "    t1_val = operators[tokens[1]](t1_1_val, t1_2_val)\n",
        "\n",
        "    t2_1_val = operators[tokens[7]](values[tokens[8]])\n",
        "    t2_2_val = operators[tokens[9]](values[tokens[10]])\n",
        "    t2_val = operators[tokens[6]](t2_1_val, t2_2_val)\n",
        "\n",
        "    heuristic_val = operators[tokens[0]](t1_val, t2_val)\n",
        "    print(heuristic_val)\n",
        "    return heuristic_val"
      ]
    },
    {
      "cell_type": "code",
      "execution_count": null,
      "metadata": {
        "id": "228mYidWScSx"
      },
      "outputs": [],
      "source": [
        "class Node():\n",
        "    \"\"\"A node class for A* Pathfinding\"\"\"\n",
        "\n",
        "    def __init__(self, parent=None, position=None):\n",
        "        self.parent = parent\n",
        "        self.position = position\n",
        "\n",
        "        self.g = 0\n",
        "        self.h = 0\n",
        "        self.f = 0\n",
        "\n",
        "    def __eq__(self, other):\n",
        "        return self.position == other.position\n",
        "\n",
        "\n",
        "def astar(maze, start, end, heuristic_func_str, manhattan):\n",
        "    \"\"\"Returns a list of tuples as a path from the given start to the given end in the given maze\"\"\"\n",
        "\n",
        "    # Create start and end node\n",
        "    start_node = Node(None, start)\n",
        "    start_node.g = start_node.h = start_node.f = 0\n",
        "    end_node = Node(None, end)\n",
        "    end_node.g = end_node.h = end_node.f = 0\n",
        "\n",
        "    walls_downward = maze.connection_list[0] # counting downward\n",
        "    walls_sideways = maze.connection_list[1] # counting sideways\n",
        "\n",
        "    # Initialize both open and closed list\n",
        "    open_list = []\n",
        "    closed_list = []\n",
        "\n",
        "    # Add the start node\n",
        "    open_list.append(start_node)\n",
        "\n",
        "    # Loop until you find the end\n",
        "    while len(open_list) > 0:\n",
        "\n",
        "        # Get the current node\n",
        "        current_node = open_list[0]\n",
        "        current_index = 0\n",
        "        for index, item in enumerate(open_list):\n",
        "            if item.f < current_node.f:\n",
        "                current_node = item\n",
        "                current_index = index\n",
        "\n",
        "        # print(current_node.position)\n",
        "\n",
        "        # Pop current off open list, add to closed list\n",
        "        open_list.pop(current_index)\n",
        "        closed_list.append(current_node)\n",
        "\n",
        "        # Found the goal\n",
        "        if current_node == end_node:\n",
        "            path = []\n",
        "            current = current_node\n",
        "            while current is not None:\n",
        "                path.append(current.position)\n",
        "                current = current.parent\n",
        "            return path[::-1], len(closed_list) # Return reversed path\n",
        "\n",
        "        # Generate children\n",
        "        children = []\n",
        "\n",
        "        # for new_position in [(-1, 0), (1, 0)]: # Adjacent up or down\n",
        "        going_up = (-1,0)\n",
        "        going_down = (1,0)\n",
        "        going_left = (0,-1)\n",
        "        going_right = (0,1)\n",
        "\n",
        "        # FOR GOING UP\n",
        "        # Get node position\n",
        "        node_position = (current_node.position[0] + going_up[0], current_node.position[1] + going_up[1])\n",
        "        # Make sure within range\n",
        "        if node_position[0] > (len(walls_downward) - 1) or node_position[0] < 0 or node_position[1] > (len(walls_downward[len(walls_downward)-1]) -1) or node_position[1] < 0:\n",
        "            # print(node_position, \"not in range\")\n",
        "            pass\n",
        "        # Make sure walkable terrain\n",
        "        elif (walls_downward[node_position[0]][node_position[1]] == False): # and ((node_position[0], node_position[1]) != end):\n",
        "            # print(\"Going up\", node_position, \"not walkable. Looked at [0]'s\", node_position[0], node_position[1])\n",
        "            pass\n",
        "        elif Node(current_node, node_position) in closed_list:\n",
        "            # print(node_position, \"is in closed list\")\n",
        "            pass\n",
        "        else:\n",
        "            # Create new node\n",
        "            new_node = Node(current_node, node_position)\n",
        "            # Append\n",
        "            children.append(new_node)\n",
        "\n",
        "\n",
        "\n",
        "        # FOR GOING DOWN\n",
        "        # Get node position\n",
        "        node_position = (current_node.position[0] + going_down[0], current_node.position[1] + going_down[1])\n",
        "        # Make sure within range\n",
        "        if node_position[0] > (len(walls_downward) - 1) or node_position[0] < 0 or node_position[1] > (len(walls_downward[len(walls_downward)-1]) -1) or node_position[1] < 0:\n",
        "            # print(node_position, \"not in range\")\n",
        "            pass\n",
        "        # Make sure walkable terrain\n",
        "        elif (walls_downward[node_position[0]-1][node_position[1]] == False): # and ((node_position[0], node_position[1]) != end):\n",
        "            # print(\"Going down\", node_position, \"not walkable. Looked at [0]'s\", node_position[0]-1, node_position[1])\n",
        "            pass\n",
        "        elif Node(current_node, node_position) in closed_list:\n",
        "            # print(node_position, \"is in closed list\")\n",
        "            pass\n",
        "        else:\n",
        "            # Create new node\n",
        "            new_node = Node(current_node, node_position)\n",
        "            # Append\n",
        "            children.append(new_node)\n",
        "\n",
        "\n",
        "\n",
        "        # FOR GOING LEFT\n",
        "        # Get node position\n",
        "        node_position = (current_node.position[0] + going_left[0], current_node.position[1] + going_left[1])\n",
        "        # Make sure within range\n",
        "        if node_position[0] > (len(walls_sideways) - 1) or node_position[0] < 0 or node_position[1] > (len(walls_sideways[len(walls_sideways)-1]) -1) or node_position[1] < 0:\n",
        "            # print(node_position, \"not in range\")\n",
        "            pass\n",
        "        # Make sure walkable terrain\n",
        "        elif (walls_sideways[node_position[0]][node_position[1]] == False): # and ((node_position[0], node_position[1]) != end):\n",
        "            # print(\"Going left\", node_position, \"not walkable. Looked at [1]'s\", node_position[0], node_position[1])\n",
        "            pass\n",
        "        elif Node(current_node, node_position) in closed_list:\n",
        "            # print(node_position, \"is in closed list\")\n",
        "            pass\n",
        "        else:\n",
        "            # Create new node\n",
        "            new_node = Node(current_node, node_position)\n",
        "            # Append\n",
        "            children.append(new_node)\n",
        "\n",
        "        # FOR GOING RIGHT\n",
        "        # Get node position\n",
        "        node_position = (current_node.position[0] + going_right[0], current_node.position[1] + going_right[1])\n",
        "        # Make sure within range\n",
        "        if node_position[0] > (len(walls_sideways) - 1) or node_position[0] < 0 or node_position[1] > (len(walls_sideways[len(walls_sideways)-1]) -1) or node_position[1] < 0:\n",
        "            # print(node_position, \"not in range\")\n",
        "            pass\n",
        "        # Make sure walkable terrain\n",
        "        elif (walls_sideways[node_position[0]][node_position[1] - 1] == False): # and ((node_position[0], node_position[1]) != end):\n",
        "            # print(\"\")\n",
        "            # print(\"Going right\", node_position, \"not walkable. Looked at [1]'s\", node_position[0], node_position[1] - 1)\n",
        "            pass\n",
        "        elif Node(current_node, node_position) in closed_list:\n",
        "            # print(node_position, \"is in closed list\")\n",
        "            pass\n",
        "        else:\n",
        "            # Create new node\n",
        "            new_node = Node(current_node, node_position)\n",
        "            # Append\n",
        "            children.append(new_node)\n",
        "\n",
        "\n",
        "        # Loop through children\n",
        "        for child in children:\n",
        "\n",
        "            # Child is on the closed list\n",
        "            for closed_child in closed_list:\n",
        "                if child == closed_child:\n",
        "                    continue\n",
        "\n",
        "            # Create the f, g, and h values\n",
        "            child.g = current_node.g + 1\n",
        "            # child.h = abs(child.position[0] - end_node.position[0]) + abs(child.position[1] - end_node.position[1])\n",
        "            if manhattan:\n",
        "                child.h = abs(child.position[0] - end_node.position[0]) + abs(child.position[1] - end_node.position[1])\n",
        "            else:\n",
        "                child.h = calculate_heuristic(heuristic_func_str, child.position[0], child.position[1], end_node.position[0], end_node.position[1])\n",
        "            child.f = child.g + child.h\n",
        "\n",
        "            # Child is already in the open list\n",
        "            for open_node in open_list:\n",
        "                if child == open_node and child.g > open_node.g:\n",
        "                    continue\n",
        "\n",
        "            # Add the child to the open list\n",
        "            open_list.append(child)\n",
        "\n"
      ]
    },
    {
      "cell_type": "code",
      "execution_count": null,
      "metadata": {
        "colab": {
          "base_uri": "https://localhost:8080/"
        },
        "id": "OUMyjptkVMfO",
        "outputId": "794980f9-5bcc-402a-af83-1145cffca715"
      },
      "outputs": [
        {
          "output_type": "stream",
          "name": "stdout",
          "text": [
            "Average states expanded by Manhattan distance is 39.804\n"
          ]
        }
      ],
      "source": [
        "\n",
        "\n",
        "manhattan_dist = lambda current, end: abs(current[0] - end[0]) + abs(current[1] - end[1]),\n",
        "\n",
        "all_states_expanded = []\n",
        "# for heuristic_func in heuristic_functions:\n",
        "\n",
        "manhattan_states_expanded = []\n",
        "for i in range(n_mazes):\n",
        "        # print(\"Solving maze number\", i)\n",
        "    curr_map = dataset[i]\n",
        "    path, states_expanded = astar(curr_map, tuple(curr_map.start_pos), tuple(curr_map.end_pos), manhattan_dist, True)\n",
        "    manhattan_states_expanded.append(states_expanded)\n",
        "\n",
        "print(\"Average states expanded by Manhattan distance is {}\".format(np.mean(manhattan_states_expanded)))"
      ]
    },
    {
      "cell_type": "markdown",
      "metadata": {
        "id": "oDr-aM5K3wca"
      },
      "source": [
        "## GA"
      ]
    },
    {
      "cell_type": "code",
      "execution_count": null,
      "metadata": {
        "id": "KHCgJWf46m-N"
      },
      "outputs": [],
      "source": [
        "import math"
      ]
    },
    {
      "cell_type": "markdown",
      "metadata": {
        "id": "Ljr1NfSt316t"
      },
      "source": [
        "Here we define initial hyperparameters"
      ]
    },
    {
      "cell_type": "markdown",
      "metadata": {
        "id": "ymjoUwQO6qGL"
      },
      "source": [
        "Helper functions"
      ]
    },
    {
      "cell_type": "code",
      "execution_count": null,
      "metadata": {
        "id": "9PzqmrIUxAx3"
      },
      "outputs": [],
      "source": [
        "import random\n",
        "import numpy as np\n",
        "import math"
      ]
    },
    {
      "cell_type": "code",
      "execution_count": null,
      "metadata": {
        "colab": {
          "base_uri": "https://localhost:8080/",
          "height": 125
        },
        "id": "-a0cSAIEQp13",
        "outputId": "ffa70f15-eea9-411b-8979-aea1d527bbc3"
      },
      "outputs": [
        {
          "output_type": "execute_result",
          "data": {
            "text/plain": [
              "'\\n# THERE ARE T\\nx = lambda x: x\\ny = lambda y: y\\nxg = lambda xg: xg\\nyg = lambda yg: yg\\ndelta_x = lambda x, xg: abs(x - xg)\\ndelta_y = lambda y, yg: abs(y - yg)\\nC = [lambda: 1, lambda: 2, lambda: 3, lambda: 4, lambda: 5, lambda: 6]\\n\\n\\n# THESE ARE U\\nU = {\\n    \"sqrt\": lambda F: math.sqrt(F),\\n    \"abs\": lambda F: math.abs(F),\\n    \"neg\": lambda F: -1 * F,\\n    \"square\": lambda F: F**2,\\n    \"nothing\": lambda F: F\\n}\\n\\n\\n\\n# THESE ARE B\\nB = {\\n    \"add\": lambda F1, F2: F1 + F2,\\n    \"sub\": lambda F1, F2: F1 - F2,\\n    \"mul\": lambda F1, F2: F1 * F2,\\n    \"div\": lambda F1, F2: F1 / F2 if F2 != 0 else float(\\'inf\\'),  # prevent division by zero\\n    \"max\": lambda F1, F2: max(F1, F2),\\n    \"min\": lambda F1, F2: min(F1, F2)\\n}\\n\\n\\nmanhattan_distance = lambda x, y, xg, yg: B[\"add\"](delta_x(x, xg), delta_y(y, yg))\\n'"
            ],
            "application/vnd.google.colaboratory.intrinsic+json": {
              "type": "string"
            }
          },
          "metadata": {},
          "execution_count": 19
        }
      ],
      "source": [
        "# Grammar\n",
        "\"\"\"\n",
        "# THERE ARE T\n",
        "x = lambda x: x\n",
        "y = lambda y: y\n",
        "xg = lambda xg: xg\n",
        "yg = lambda yg: yg\n",
        "delta_x = lambda x, xg: abs(x - xg)\n",
        "delta_y = lambda y, yg: abs(y - yg)\n",
        "C = [lambda: 1, lambda: 2, lambda: 3, lambda: 4, lambda: 5, lambda: 6]\n",
        "\n",
        "\n",
        "# THESE ARE U\n",
        "U = {\n",
        "    \"sqrt\": lambda F: math.sqrt(F),\n",
        "    \"abs\": lambda F: math.abs(F),\n",
        "    \"neg\": lambda F: -1 * F,\n",
        "    \"square\": lambda F: F**2,\n",
        "    \"nothing\": lambda F: F\n",
        "}\n",
        "\n",
        "\n",
        "\n",
        "# THESE ARE B\n",
        "B = {\n",
        "    \"add\": lambda F1, F2: F1 + F2,\n",
        "    \"sub\": lambda F1, F2: F1 - F2,\n",
        "    \"mul\": lambda F1, F2: F1 * F2,\n",
        "    \"div\": lambda F1, F2: F1 / F2 if F2 != 0 else float('inf'),  # prevent division by zero\n",
        "    \"max\": lambda F1, F2: max(F1, F2),\n",
        "    \"min\": lambda F1, F2: min(F1, F2)\n",
        "}\n",
        "\n",
        "\n",
        "manhattan_distance = lambda x, y, xg, yg: B[\"add\"](delta_x(x, xg), delta_y(y, yg))\n",
        "\"\"\"\n"
      ]
    },
    {
      "cell_type": "code",
      "execution_count": null,
      "metadata": {
        "colab": {
          "base_uri": "https://localhost:8080/",
          "height": 143
        },
        "id": "khnyibtjW9Sh",
        "outputId": "223bb92f-98c1-46e6-d3b3-9ac344aabef1"
      },
      "outputs": [
        {
          "output_type": "execute_result",
          "data": {
            "text/plain": [
              "'\\n# \"DONT DELETE\"\\n# OLD ONE WITH C\\nimport random\\n\\n# Your grammar\\nC = [\\'1\\',\\'2\\',\\'3\\',\\'4\\',\\'5\\',\\'6\\']\\nT = [\"x\", \"y\", \"xg\", \"yg\", \"delta_x\", \"delta_y\", \"C\"]\\nU = [\"sqrt\", \"abs\", \"neg\", \"square\", \"nothing\"]\\nB = [\"add\", \"sub\", \"mul\", \"div\", \"max\", \"min\"]\\n\\ndef generate_heuristic():\\n    # Step 1: Generate two pairs of T\\n    pair1 = [random.choice(T), random.choice(T)]\\n    pair2 = [random.choice(T), random.choice(T)]\\n    # Step 2: For each T apply one of the U\\n    pair1 = [random.choice(U) + \"(\" + t + \")\" for t in pair1]\\n    pair2 = [random.choice(U) + \"(\" + t + \")\" for t in pair2]\\n\\n    # Step 3: Run B between inside pairs of T\\n    pair1 = random.choice(B) + \"(\" + pair1[0] + \",\" + pair1[1] + \")\"\\n    pair2 = random.choice(B) + \"(\" + pair2[0] + \",\" + pair2[1] + \")\"\\n\\n    # Step 4: Then run B between each pairs\\n    return random.choice(B) + \"(\" + pair1 + \",\" + pair2 + \")\"\\n\\n# Generate a population of heuristics\\npopulation_size = 20\\npopulation = [generate_heuristic() for _ in range(population_size)]\\npopulation\\n'"
            ],
            "application/vnd.google.colaboratory.intrinsic+json": {
              "type": "string"
            }
          },
          "metadata": {},
          "execution_count": 20
        }
      ],
      "source": [
        "\"\"\"\n",
        "# \"DONT DELETE\"\n",
        "# OLD ONE WITH C\n",
        "import random\n",
        "\n",
        "# Your grammar\n",
        "C = ['1','2','3','4','5','6']\n",
        "T = [\"x\", \"y\", \"xg\", \"yg\", \"delta_x\", \"delta_y\", \"C\"]\n",
        "U = [\"sqrt\", \"abs\", \"neg\", \"square\", \"nothing\"]\n",
        "B = [\"add\", \"sub\", \"mul\", \"div\", \"max\", \"min\"]\n",
        "\n",
        "def generate_heuristic():\n",
        "    # Step 1: Generate two pairs of T\n",
        "    pair1 = [random.choice(T), random.choice(T)]\n",
        "    pair2 = [random.choice(T), random.choice(T)]\n",
        "    # Step 2: For each T apply one of the U\n",
        "    pair1 = [random.choice(U) + \"(\" + t + \")\" for t in pair1]\n",
        "    pair2 = [random.choice(U) + \"(\" + t + \")\" for t in pair2]\n",
        "\n",
        "    # Step 3: Run B between inside pairs of T\n",
        "    pair1 = random.choice(B) + \"(\" + pair1[0] + \",\" + pair1[1] + \")\"\n",
        "    pair2 = random.choice(B) + \"(\" + pair2[0] + \",\" + pair2[1] + \")\"\n",
        "\n",
        "    # Step 4: Then run B between each pairs\n",
        "    return random.choice(B) + \"(\" + pair1 + \",\" + pair2 + \")\"\n",
        "\n",
        "# Generate a population of heuristics\n",
        "population_size = 20\n",
        "population = [generate_heuristic() for _ in range(population_size)]\n",
        "population\n",
        "\"\"\""
      ]
    },
    {
      "cell_type": "markdown",
      "metadata": {
        "id": "dpgwuA9s9ilZ"
      },
      "source": [
        "Note for tomorrow:\n",
        "* Seperate into unary and binary operators.\n",
        "* Stack might not even be needed. The structure in all expressions are the same.\n",
        "Structure: B, B, U, T, U, T, B, U, T, U, T\n",
        "* First calculate unary values, then insides\n",
        "* Need to create a helper function called calculate_heuristic() that will be called inside A*.\n",
        "\n",
        "\n",
        "\n",
        "\n",
        "['max', 'add', 'sqrt', 'xg', '', 'square', 'yg', '', '', 'min', 'nothing', 'y', '', 'sqrt', 'C']"
      ]
    },
    {
      "cell_type": "code",
      "execution_count": null,
      "metadata": {
        "id": "cYxKK4i46pSP"
      },
      "outputs": [],
      "source": [
        "def generate_heuristic():\n",
        "    # Step 1: Generate two pairs of T\n",
        "    T_weights = (6,6,6,6,6,6,1,1,1,1,1,1)\n",
        "    pair1 = [random.choices(T, weights=T_weights)[0], random.choices(T, weights=T_weights)[0]]\n",
        "    pair2 = [random.choices(T, weights=T_weights)[0], random.choices(T, weights=T_weights)[0]]\n",
        "\n",
        "    # Step 2: For each T apply one of the U\n",
        "    U_weights = (1,1,1,1,3)\n",
        "    pair1 = [random.choices(U, weights=U_weights)[0] + \"(\" + t + \")\" for t in pair1]\n",
        "    pair2 = [random.choices(U, weights=U_weights)[0] + \"(\" + t + \")\" for t in pair2]\n",
        "\n",
        "    # Step 3: Run B between inside pairs of T\n",
        "    pair1 = random.choice(B) + \"(\" + pair1[0] + \",\" + pair1[1] + \")\"\n",
        "    pair2 = random.choice(B) + \"(\" + pair2[0] + \",\" + pair2[1] + \")\"\n",
        "\n",
        "    # Step 4: Then run B between each pairs\n",
        "    return random.choice(B) + \"(\" + pair1 + \",\" + pair2 + \")\"\n",
        "\n",
        "\n",
        "# Generate a population of heuristics\n",
        "def generate_initial_population(population_size):\n",
        "    \"\"\"\n",
        "    Randomly sample heuristic functions using grammar.\n",
        "    Returns N initial heuristics\n",
        "    Each heuristic will be a lambda function definition\n",
        "    \"\"\"\n",
        "\n",
        "    population = [generate_heuristic() for _ in range(population_size)]\n",
        "    return population\n",
        "\n",
        "\n",
        "def calculate_heuristic(s, x, y, xg, yg):\n",
        "\n",
        "    values = {\"x\":x, \"y\":y, \"xg\":xg, \"yg\":yg, \"delta_x\":abs(x-xg), \"delta_y\":abs(y-yg), \"1\":1, \"2\":2, \"3\":3, \"4\":4, \"5\":5, \"6\":6}\n",
        "    # Define a regular expression pattern to match tokens\n",
        "    pattern = r'[a-zA-Z_]\\w*|\\b\\w+\\b'\n",
        "\n",
        "    # Use re.findall to find all matching tokens in the input string\n",
        "    tokens = re.findall(pattern, s)\n",
        "\n",
        "    # print(tokens)\n",
        "\n",
        "    t1_1_val = operators[tokens[2]](values[tokens[3]])\n",
        "    if t1_1_val == 0:\n",
        "        t1_1_val = 0.001\n",
        "    t1_2_val = operators[tokens[4]](values[tokens[5]])\n",
        "    if t1_2_val == 0:\n",
        "        t1_2_val = 0.001\n",
        "    t1_val = operators[tokens[1]](t1_1_val, t1_2_val)\n",
        "    if t1_val == 0:\n",
        "        t1_val = 0.001\n",
        "\n",
        "    t2_1_val = operators[tokens[7]](values[tokens[8]])\n",
        "    if t2_1_val == 0:\n",
        "        t2_1_val = 0.001\n",
        "    t2_2_val = operators[tokens[9]](values[tokens[10]])\n",
        "    if t2_2_val == 0:\n",
        "        t2_2_val = 0.001\n",
        "    t2_val = operators[tokens[6]](t2_1_val, t2_2_val)\n",
        "    if t2_val == 0:\n",
        "        t2_val = 0.001\n",
        "\n",
        "    heuristic_val = operators[tokens[0]](t1_val, t2_val)\n",
        "    # print(heuristic_val)\n",
        "    return heuristic_val\n",
        "\n",
        "\n",
        "def evaluate_fitness(population):\n",
        "    \"\"\"\n",
        "    Input: Population of heuristic functions\n",
        "    Output: Average state expanded for each heuristic function\n",
        "    Status: DONE (looks good for now)\n",
        "    \"\"\"\n",
        "\n",
        "    fitness = [] # Takes tuples of [heuristic, avg_num_states_expanded]\n",
        "    for heuristic in population:\n",
        "        all_states_expanded = []\n",
        "        for i in range(n_mazes):\n",
        "            curr_map = dataset[i]\n",
        "            path, states_expanded = astar(curr_map, tuple(curr_map.start_pos), tuple(curr_map.end_pos), heuristic, False)\n",
        "            all_states_expanded.append(states_expanded)\n",
        "        # all_states_expanded.append(curr_states_expanded)\n",
        "        avg_states_expanded = np.mean(all_states_expanded)\n",
        "        fitness.append([heuristic, avg_states_expanded])\n",
        "\n",
        "    return fitness\n",
        "\n",
        "\n",
        "def select_parents(population_fitness, population_size):\n",
        "    \"\"\"\n",
        "    Based on some percent, return best % of the heuristic\n",
        "    \"\"\"\n",
        "\n",
        "    # For now I only want to choose the best 20% of the population. Meaning best 6/30.\n",
        "\n",
        "    sorted_population = sorted(population_fitness, key=lambda x: float(x[1]))\n",
        "    # print(\"Sorted population is \", sorted_population)\n",
        "    best_20_percent = int(population_size/5)\n",
        "    selected_parents = sorted_population[:best_20_percent]\n",
        "    # print(\"Selected parents are: \", selected_parents)\n",
        "\n",
        "    best_heuristic_pair = min(selected_parents, key=lambda x: x[1])\n",
        "    # print(\"Best heuristic pair is: \", best_heuristic_pair)\n",
        "    best_heuristic = best_heuristic_pair[0]\n",
        "    least_states_expanded = best_heuristic_pair[1]\n",
        "\n",
        "    selected_parents = [item[0] for item in selected_parents]\n",
        "\n",
        "    return selected_parents, best_heuristic, least_states_expanded\n",
        "\n",
        "\n",
        "def crossover(parents, crossover_rate):\n",
        "    \"\"\"\n",
        "    Based on a crossover rates, tokens of parents crossover\n",
        "    Check each crossover is valid by checking the validity of new candidates\n",
        "    Returns new candidates\n",
        "    Takes a half of one (keeping the first binary operation of first) and swaps with other half\n",
        "    \"\"\"\n",
        "    T = [\"x\", \"y\", \"xg\", \"yg\", \"delta_x\", \"delta_y\", \"1\", \"2\", \"3\", \"4\", \"5\", \"6\"]\n",
        "    U = [\"sqrt\", \"abs\", \"neg\", \"square\", \"nothing\"]\n",
        "    B = [\"add\", \"sub\", \"mul\", \"div\", \"max\", \"min\"]\n",
        "\n",
        "    crossovered_population = []\n",
        "\n",
        "    random.shuffle(parents)\n",
        "    pairs = []\n",
        "\n",
        "    pattern = r'[a-zA-Z_]\\w*|\\b\\w+\\b'\n",
        "\n",
        "    # Finding which pairs will reproduce\n",
        "    for i in range(0, len(parents), 2):\n",
        "        pair = [parents[i], parents[i + 1]]\n",
        "        pairs.append(pair)\n",
        "\n",
        "\n",
        "    for pair in pairs:\n",
        "        rand_val = random.random()\n",
        "        if rand_val <= crossover_rate:\n",
        "            # perform crossover\n",
        "            # form is B1 B1 U1 T1 U1 T1 B2 U2 T2 U2 T2\n",
        "            components1 = re.findall(pattern, pair[0])\n",
        "            components2 = re.findall(pattern, pair[1])\n",
        "\n",
        "            pair1 = [components1[3], components1[5]]\n",
        "            pair2 = [components2[8], components2[10]]\n",
        "\n",
        "            # Apply unary operation\n",
        "            pair1 = [components1[2] + \"(\" + pair1[0] + \")\", components1[4] + \"(\" + pair1[0] + \")\"]\n",
        "            pair2 = [components2[7] + \"(\" + pair2[0] + \")\", components2[9] + \"(\" + pair2[0] + \")\"]\n",
        "\n",
        "            # Run B between inside pairs of T\n",
        "            pair1 = components1[1] + \"(\" + pair1[0] + \",\" + pair1[1] + \")\"\n",
        "            pair2 = components2[6] + \"(\" + pair2[0] + \",\" + pair2[1] + \")\"\n",
        "\n",
        "            # Run B between each pairs\n",
        "\n",
        "            crossovered_heuristic = components1[0] + \"(\" + pair1 + \",\" + pair2 + \")\"\n",
        "\n",
        "            crossovered_population.append(crossovered_heuristic)\n",
        "\n",
        "\n",
        "\n",
        "def mutate_population(population, mutation_rate, desired_population_size):\n",
        "    \"\"\"\n",
        "    Based on given population change some of the tokens.\n",
        "    Repeat until the population size is the initial population size\n",
        "    The population size is satisfied with mutation.\n",
        "    Randomly choose heuristic to mutate until it reaches the desired population size\n",
        "    Return new candidates\n",
        "    \"\"\"\n",
        "\n",
        "    # Number of things is 11\n",
        "    # B, B, U, T, U, T, B, U, T, U, T\n",
        "\n",
        "    T = [\"x\", \"y\", \"xg\", \"yg\", \"delta_x\", \"delta_y\", \"1\", \"2\", \"3\", \"4\", \"5\", \"6\"]\n",
        "    U = [\"sqrt\", \"abs\", \"neg\", \"square\", \"nothing\"]\n",
        "    B = [\"add\", \"sub\", \"mul\", \"div\", \"max\", \"min\"]\n",
        "\n",
        "    mutated_population = population\n",
        "\n",
        "\n",
        "    while len(mutated_population) != desired_population_size:\n",
        "        heuristic = random.choice(population)\n",
        "\n",
        "        # Define a regular expression pattern to match tokens\n",
        "        pattern = r'[a-zA-Z_]\\w*|\\b\\w+\\b'\n",
        "\n",
        "        # Use re.findall to find all matching tokens in the input string\n",
        "        # print(heuristic)\n",
        "        components = re.findall(pattern, heuristic)\n",
        "        # print(components)\n",
        "        mutated_components = []\n",
        "\n",
        "        random_values = [random.random() for _ in range(len(components))]\n",
        "        T_weights = (6,6,6,6,6,6,1,1,1,1,1,1)\n",
        "        U_weights = (1,1,1,1,3)\n",
        "\n",
        "        for i in range(len(random_values)):\n",
        "            if random_values[i] <= mutation_rate:\n",
        "                # Do mutation\n",
        "                if i in [3, 5, 8, 10]:\n",
        "                    # if it is a token\n",
        "                    # randomly change the token\n",
        "                    mutated_components.append(random.choices(T, weights=T_weights)[0])\n",
        "\n",
        "                if i in [2, 4, 7, 9]:\n",
        "                    # if it is a unary operator\n",
        "                    # randomly change the unary operator\n",
        "                    mutated_components.append(random.choices(U, weights=U_weights)[0])\n",
        "\n",
        "                if i in [0, 1, 6]:\n",
        "                    # if it is a binary operator\n",
        "                    # randomly change the binary operator\n",
        "                    mutated_components.append(random.choice(B))\n",
        "            else:\n",
        "                mutated_components.append(components[i])\n",
        "\n",
        "        # Tokens\n",
        "        pair1 = [mutated_components[3], mutated_components[5]]\n",
        "        pair2 = [mutated_components[8], mutated_components[10]]\n",
        "\n",
        "        # Apply unary operation\n",
        "        pair1 = [mutated_components[2] + \"(\" + pair1[0] + \")\", mutated_components[4] + \"(\" + pair1[0] + \")\"]\n",
        "        pair2 = [mutated_components[7] + \"(\" + pair2[0] + \")\", mutated_components[9] + \"(\" + pair2[0] + \")\"]\n",
        "\n",
        "        # Run B between inside pairs of T\n",
        "        pair1 = mutated_components[1] + \"(\" + pair1[0] + \",\" + pair1[1] + \")\"\n",
        "        pair2 = mutated_components[6] + \"(\" + pair2[0] + \",\" + pair2[1] + \")\"\n",
        "\n",
        "        # Run B between each pairs\n",
        "\n",
        "        mutated_heuristic = mutated_components[0] + \"(\" + pair1 + \",\" + pair2 + \")\"\n",
        "        mutated_population.append(mutated_heuristic)\n",
        "\n",
        "\n",
        "    return mutated_population\n",
        "\n",
        "\n",
        "def calculate_avg_speedup(fitness, states_expanded_manhattan):\n",
        "    states_expanded = [item[1] for item in fitness if len(item) > 1 and isinstance(item[1], (int, float))]\n",
        "\n",
        "    # Calculate the average\n",
        "\n",
        "    average_states_expanded = np.sum(states_expanded) / len(states_expanded)\n",
        "\n",
        "    avg_speedup = average_states_expanded / states_expanded_manhattan\n",
        "\n",
        "\n",
        "\n",
        "    # STD Speedup\n",
        "    # 1. Calculated speedups for all\n",
        "    speedups = []\n",
        "    for num_states in states_expanded:\n",
        "        speedups.append(num_states / states_expanded_manhattan)\n",
        "\n",
        "    std_speedup = np.std(speedups) / np.sqrt(len(speedups))\n",
        "\n",
        "    return avg_speedup, std_speedup\n"
      ]
    },
    {
      "cell_type": "markdown",
      "metadata": {
        "id": "JOo7WsNPKcat"
      },
      "source": [
        "MAIN EVOLUTION LOOP\n"
      ]
    },
    {
      "cell_type": "markdown",
      "metadata": {
        "id": "HFr7nu6MHGiw"
      },
      "source": [
        "The baseline"
      ]
    },
    {
      "cell_type": "code",
      "execution_count": null,
      "metadata": {
        "colab": {
          "base_uri": "https://localhost:8080/"
        },
        "id": "GWnDJ_3xHF5q",
        "outputId": "16e0767d-4da3-4900-fc4b-fe9505393764"
      },
      "outputs": [
        {
          "output_type": "stream",
          "name": "stdout",
          "text": [
            "Average states expanded by Manhattan distance is 39.804\n"
          ]
        }
      ],
      "source": [
        "manhattan_dist = lambda current, end: abs(current[0] - end[0]) + abs(current[1] - end[1]),\n",
        "\n",
        "all_states_expanded = []\n",
        "# for heuristic_func in heuristic_functions:\n",
        "\n",
        "manhattan_states_expanded = []\n",
        "for i in range(n_mazes):\n",
        "        # print(\"Solving maze number\", i)\n",
        "    curr_map = dataset[i]\n",
        "    path, states_expanded = astar(curr_map, tuple(curr_map.start_pos), tuple(curr_map.end_pos), manhattan_dist, True)\n",
        "    manhattan_states_expanded.append(states_expanded)\n",
        "\n",
        "avg_states_expanded_manhattan = np.mean(manhattan_states_expanded)\n",
        "print(\"Average states expanded by Manhattan distance is {}\".format(np.mean(manhattan_states_expanded)))"
      ]
    },
    {
      "cell_type": "markdown",
      "metadata": {
        "id": "bXf4gL5rCzka"
      },
      "source": [
        "Thinking about average speed up curve\n",
        "\n",
        "\n",
        "*   Save the average speedup at each generation. Array of 100.\n",
        "*   Speedup is calculated as average states expanded / avg expanded by Manhattan\n",
        "*\n",
        "\n"
      ]
    },
    {
      "cell_type": "code",
      "execution_count": null,
      "metadata": {
        "colab": {
          "base_uri": "https://localhost:8080/"
        },
        "id": "5pU3CdPi5U_D",
        "outputId": "31f52872-14b1-4b81-87ef-fd6d6bfc4e92"
      },
      "outputs": [
        {
          "output_type": "stream",
          "name": "stdout",
          "text": [
            "Generation  0\n",
            "Average speedup is  2.387548990051251\n",
            "17.83\n",
            "Generation  1\n",
            "Average speedup is  2.0208421264194554\n",
            "17.83\n",
            "Generation  2\n",
            "Average speedup is  1.4845157940575482\n",
            "17.83\n",
            "Generation  3\n",
            "Average speedup is  1.6176498174387834\n",
            "17.83\n",
            "Generation  4\n",
            "Average speedup is  1.4812983619736706\n",
            "17.83\n",
            "Generation  5\n",
            "Average speedup is  1.4883077077680633\n",
            "17.83\n",
            "Generation  6\n",
            "Average speedup is  1.4639031253140387\n",
            "17.83\n",
            "Generation  7\n",
            "Average speedup is  1.7455465112384012\n",
            "17.83\n",
            "Generation  8\n",
            "Average speedup is  1.4938448397146016\n",
            "17.83\n",
            "Generation  9\n",
            "Average speedup is  1.6401818912672095\n",
            "16.612\n",
            "Generation  10\n",
            "Average speedup is  1.3280943288781697\n",
            "16.612\n",
            "Generation  11\n",
            "Average speedup is  0.6150638126821424\n",
            "16.612\n",
            "Generation  12\n",
            "Average speedup is  0.7832026931966636\n",
            "16.106\n",
            "Generation  13\n",
            "Average speedup is  0.7493735972934041\n",
            "16.106\n",
            "Generation  14\n",
            "Average speedup is  0.9032191069574246\n",
            "16.106\n",
            "Generation  15\n",
            "Average speedup is  0.8218035038354604\n",
            "15.024\n",
            "Generation  16\n",
            "Average speedup is  0.9611194854788463\n",
            "15.024\n",
            "Generation  17\n",
            "Average speedup is  1.129745754195558\n",
            "15.024\n",
            "Generation  18\n",
            "Average speedup is  1.2149700197635074\n",
            "15.024\n",
            "Generation  19\n",
            "Average speedup is  1.0863045590057951\n",
            "14.696\n",
            "Generation  20\n",
            "Average speedup is  1.1191136569189026\n",
            "14.696\n",
            "Generation  21\n",
            "Average speedup is  0.6956955749840886\n",
            "14.696\n",
            "Generation  22\n",
            "Average speedup is  0.6530650185910963\n",
            "13.144\n",
            "Generation  23\n",
            "Average speedup is  0.7833869292868387\n",
            "13.144\n",
            "Generation  24\n",
            "Average speedup is  0.9659447961678893\n",
            "13.144\n",
            "Generation  25\n",
            "Average speedup is  0.6400763742337453\n",
            "13.144\n",
            "Generation  26\n",
            "Average speedup is  0.6165628245067498\n",
            "13.144\n",
            "Generation  27\n",
            "Average speedup is  0.5556376243593608\n",
            "13.144\n",
            "Generation  28\n",
            "Average speedup is  0.9240093122969215\n",
            "13.144\n",
            "Generation  29\n",
            "Average speedup is  0.6490352728369007\n",
            "13.144\n",
            "Generation  30\n",
            "Average speedup is  0.8628613539677753\n",
            "13.144\n",
            "Generation  31\n",
            "Average speedup is  0.7067162429236593\n",
            "13.144\n",
            "Generation  32\n",
            "Average speedup is  0.43251097042173314\n",
            "13.144\n",
            "Generation  33\n",
            "Average speedup is  0.6822898871135229\n",
            "13.144\n",
            "Generation  34\n",
            "Average speedup is  0.6743241885237665\n",
            "13.144\n",
            "Generation  35\n",
            "Average speedup is  0.8642732723679362\n",
            "13.144\n",
            "Generation  36\n",
            "Average speedup is  0.6425836599336749\n",
            "13.144\n",
            "Generation  37\n",
            "Average speedup is  0.659833182594714\n",
            "13.144\n",
            "Generation  38\n",
            "Average speedup is  0.6251649750443841\n",
            "13.144\n",
            "Generation  39\n",
            "Average speedup is  0.7072890496767493\n",
            "13.144\n",
            "Generation  40\n",
            "Average speedup is  0.6097192911935149\n",
            "13.144\n",
            "Generation  41\n",
            "Average speedup is  0.5148963253274377\n",
            "13.144\n",
            "Generation  42\n",
            "Average speedup is  1.5719106957424718\n",
            "13.144\n",
            "Generation  43\n",
            "Average speedup is  0.644149666700164\n",
            "13.144\n",
            "Generation  44\n",
            "Average speedup is  0.6547834388503666\n",
            "13.144\n",
            "Generation  45\n",
            "Average speedup is  0.7235001507386193\n",
            "13.144\n",
            "Generation  46\n",
            "Average speedup is  0.599716946370549\n",
            "13.144\n",
            "Generation  47\n",
            "Average speedup is  0.6073945667102134\n",
            "13.144\n",
            "Generation  48\n",
            "Average speedup is  0.7724416306568854\n",
            "13.144\n",
            "Generation  49\n",
            "Average speedup is  0.45054768364988446\n",
            "13.144\n",
            "Generation  50\n",
            "Average speedup is  0.7676632164271598\n",
            "13.144\n",
            "Generation  51\n",
            "Average speedup is  0.8301929454326198\n",
            "13.144\n",
            "Generation  52\n",
            "Average speedup is  0.5128027333936288\n",
            "13.144\n",
            "Generation  53\n",
            "Average speedup is  1.037622684487321\n",
            "13.144\n",
            "Generation  54\n",
            "Average speedup is  1.830536294509764\n",
            "13.144\n",
            "Generation  55\n",
            "Average speedup is  0.6859645596757445\n",
            "13.144\n",
            "Generation  56\n",
            "Average speedup is  0.6549392020902423\n",
            "13.144\n",
            "Generation  57\n",
            "Average speedup is  1.2383562791009277\n",
            "13.144\n",
            "Generation  58\n",
            "Average speedup is  0.49930660235152236\n",
            "13.144\n",
            "Generation  59\n",
            "Average speedup is  0.7282015207851806\n",
            "13.144\n",
            "Generation  60\n",
            "Average speedup is  0.6988125146551436\n",
            "13.144\n",
            "Generation  61\n",
            "Average speedup is  0.5537667906073092\n",
            "13.144\n",
            "Generation  62\n",
            "Average speedup is  0.7047097444142968\n",
            "13.144\n",
            "Generation  63\n",
            "Average speedup is  0.8378554919103608\n",
            "13.144\n",
            "Generation  64\n",
            "Average speedup is  0.9384768699963156\n",
            "13.144\n",
            "Generation  65\n",
            "Average speedup is  0.5205372994338927\n",
            "13.144\n",
            "Generation  66\n",
            "Average speedup is  0.4361018993066023\n",
            "13.144\n",
            "Generation  67\n",
            "Average speedup is  0.7979181321810201\n",
            "13.144\n",
            "Generation  68\n",
            "Average speedup is  0.903554081666834\n",
            "13.144\n",
            "Generation  69\n",
            "Average speedup is  0.555465112384015\n",
            "13.144\n",
            "Generation  70\n",
            "Average speedup is  0.7908015944796167\n",
            "13.144\n",
            "Generation  71\n",
            "Average speedup is  0.6403024821625968\n",
            "13.144\n",
            "Generation  72\n",
            "Average speedup is  0.7834003282752152\n",
            "13.144\n",
            "Generation  73\n",
            "Average speedup is  0.6106773188624258\n",
            "13.144\n",
            "Generation  74\n",
            "Average speedup is  0.549402070143704\n",
            "13.144\n",
            "Generation  75\n",
            "Average speedup is  0.6454493685726728\n",
            "13.144\n",
            "Generation  76\n",
            "Average speedup is  0.9792030951663149\n",
            "13.144\n",
            "Generation  77\n",
            "Average speedup is  1.0225588718051788\n",
            "13.144\n",
            "Generation  78\n",
            "Average speedup is  0.7436756774863499\n",
            "13.144\n",
            "Generation  79\n",
            "Average speedup is  0.7378755903929253\n",
            "13.144\n",
            "Generation  80\n",
            "Average speedup is  0.9700633102200784\n",
            "13.144\n",
            "Generation  81\n",
            "Average speedup is  1.2945985328107728\n",
            "13.144\n",
            "Generation  82\n",
            "Average speedup is  0.678318761933474\n",
            "13.144\n",
            "Generation  83\n",
            "Average speedup is  0.6668023314239775\n",
            "13.144\n",
            "Generation  84\n",
            "Average speedup is  0.8800723545372324\n",
            "13.144\n",
            "Generation  85\n",
            "Average speedup is  0.5086657957324221\n",
            "13.144\n",
            "Generation  86\n",
            "Average speedup is  0.7277493049274779\n",
            "13.144\n",
            "Generation  87\n",
            "Average speedup is  0.3878554919103608\n",
            "13.144\n",
            "Generation  88\n",
            "Average speedup is  1.0681405553880683\n",
            "13.144\n",
            "Generation  89\n",
            "Average speedup is  0.5806702843935283\n",
            "13.144\n",
            "Generation  90\n",
            "Average speedup is  0.6837034803872308\n",
            "13.144\n",
            "Generation  91\n",
            "Average speedup is  1.094930157773088\n",
            "13.144\n",
            "Generation  92\n",
            "Average speedup is  0.8598097343650556\n",
            "13.144\n",
            "Generation  93\n",
            "Average speedup is  0.5006347770743308\n",
            "13.144\n",
            "Generation  94\n",
            "Average speedup is  0.7160620373161825\n",
            "13.144\n",
            "Generation  95\n",
            "Average speedup is  0.6658493283757076\n",
            "13.144\n",
            "Generation  96\n",
            "Average speedup is  0.7570143704150336\n",
            "13.144\n",
            "Generation  97\n",
            "Average speedup is  0.9239657655846982\n",
            "13.144\n",
            "Generation  98\n",
            "Average speedup is  0.6597511137909088\n",
            "13.144\n",
            "Generation  99\n",
            "Average speedup is  0.4843952031621613\n",
            "13.144\n"
          ]
        }
      ],
      "source": [
        "mr = 0.1\n",
        "cr = 0.6\n",
        "max_generations = 100\n",
        "generations_n = 0\n",
        "global_best_heuristic = 0\n",
        "GA_champions = []\n",
        "global_least_states_expanded_train = math.inf\n",
        "population_size = 30\n",
        "population = generate_initial_population(population_size)\n",
        "initial_population = population\n",
        "\n",
        "GA_speedups = []\n",
        "std_GA = []\n",
        "\n",
        "champions_GA = []\n",
        "while generations_n < max_generations:\n",
        "\n",
        "    print(\"Generation \", generations_n)\n",
        "    fitness = evaluate_fitness(population) # contains paris (heuristic, average state expanded)\n",
        "\n",
        "    avg_speedup, std_speedup = calculate_avg_speedup(fitness, avg_states_expanded_manhattan)\n",
        "    print(\"Average speedup is \", avg_speedup)\n",
        "    GA_speedups.append(avg_speedup)\n",
        "    std_GA.append(std_speedup)\n",
        "\n",
        "    parents, best_heuristic, least_states_expanded = select_parents(fitness, population_size)\n",
        "    champions_GA.append(least_states_expanded)\n",
        "    # Check least states expanded\n",
        "    print(least_states_expanded)\n",
        "    if least_states_expanded <= global_least_states_expanded_train:\n",
        "        global_best_heuristic = best_heuristic\n",
        "        global_least_states_expanded_train = least_states_expanded\n",
        "\n",
        "\n",
        "    GA_champions.append(avg_states_expanded_manhattan / least_states_expanded)\n",
        "\n",
        "    offspring = crossover(parents, cr)\n",
        "    population = mutate_population(parents, mr, population_size)\n",
        "\n",
        "    generations_n += 1"
      ]
    },
    {
      "cell_type": "code",
      "execution_count": null,
      "metadata": {
        "colab": {
          "base_uri": "https://localhost:8080/",
          "height": 35
        },
        "id": "7IMTaAc2LJXj",
        "outputId": "6216c278-4dd2-4ccd-96e9-7bd8d7bf0da6"
      },
      "outputs": [
        {
          "output_type": "execute_result",
          "data": {
            "text/plain": [
              "'add(add(abs(delta_x),square(delta_x)),sub(square(delta_y),neg(delta_y)))'"
            ],
            "application/vnd.google.colaboratory.intrinsic+json": {
              "type": "string"
            }
          },
          "metadata": {},
          "execution_count": 24
        }
      ],
      "source": [
        "global_best_heuristic"
      ]
    },
    {
      "cell_type": "code",
      "execution_count": null,
      "metadata": {
        "colab": {
          "base_uri": "https://localhost:8080/"
        },
        "id": "1QZJMOjnNKKm",
        "outputId": "534d8e38-2e8e-4493-f125-8cb5aa106234"
      },
      "outputs": [
        {
          "output_type": "execute_result",
          "data": {
            "text/plain": [
              "13.144"
            ]
          },
          "metadata": {},
          "execution_count": 25
        }
      ],
      "source": [
        "global_least_states_expanded_train"
      ]
    },
    {
      "cell_type": "code",
      "execution_count": null,
      "metadata": {
        "id": "g4C_CR-MrG1T"
      },
      "outputs": [],
      "source": [
        "import pandas as pd\n",
        "pd.DataFrame(GA_speedups).to_csv('GA_speedup_10.csv', encoding='utf-8-sig')"
      ]
    },
    {
      "cell_type": "markdown",
      "metadata": {
        "id": "RS8mOgtb43uG"
      },
      "source": [
        "## Evolution strategies"
      ]
    },
    {
      "cell_type": "code",
      "execution_count": null,
      "metadata": {
        "id": "Tbi4U6-4_57i"
      },
      "outputs": [],
      "source": [
        "\n",
        "def mutate_population_ES(population, mutation_rate, desired_population_size):\n",
        "    '''\n",
        "    ES difference: We replace parents with children\n",
        "    * Parameters:\n",
        "    * mu: The number of parents selected each iteration\n",
        "    # lambda: size of the population\n",
        "    # lambda/mu: Number of children gerenated from each selected parent\n",
        "    Based on given population change some of the tokens.\n",
        "    Repeat until the population size is the initial population size\n",
        "    The population size is satisfied with mutation.\n",
        "    Randomly choose heuristic to mutate until it reaches the desired population size\n",
        "    Return new candidates\n",
        "    '''\n",
        "\n",
        "    # Number of things is 11\n",
        "    # B, B, U, T, U, T, B, U, T, U, T\n",
        "\n",
        "    T = [\"x\", \"y\", \"xg\", \"yg\", \"delta_x\", \"delta_y\", \"1\", \"2\", \"3\", \"4\", \"5\", \"6\"]\n",
        "    U = [\"sqrt\", \"abs\", \"neg\", \"square\", \"nothing\"]\n",
        "    B = [\"add\", \"sub\", \"mul\", \"div\", \"max\", \"min\"]\n",
        "\n",
        "    mutated_population = []\n",
        "\n",
        "\n",
        "    while len(mutated_population) != desired_population_size:\n",
        "        heuristic = random.choice(population)\n",
        "\n",
        "        # Define a regular expression pattern to match tokens\n",
        "        pattern = r'[a-zA-Z_]\\w*|\\b\\w+\\b'\n",
        "\n",
        "        # Use re.findall to find all matching tokens in the input string\n",
        "        # print(heuristic)\n",
        "        components = re.findall(pattern, heuristic)\n",
        "        # print(components)\n",
        "        mutated_components = []\n",
        "\n",
        "        random_values = [random.random() for _ in range(len(components))]\n",
        "        T_weights = (6,6,6,6,6,6,1,1,1,1,1,1)\n",
        "        U_weights = (1,1,1,1,3)\n",
        "\n",
        "        for i in range(len(random_values)):\n",
        "            if random_values[i] <= mutation_rate:\n",
        "                # Do mutation\n",
        "                if i in [3, 5, 8, 10]:\n",
        "                    # if it is a token\n",
        "                    # randomly change the token\n",
        "                    mutated_components.append(random.choices(T, weights=T_weights)[0])\n",
        "\n",
        "                if i in [2, 4, 7, 9]:\n",
        "                    # if it is a unary operator\n",
        "                    # randomly change the unary operator\n",
        "                    mutated_components.append(random.choices(U, weights=U_weights)[0])\n",
        "\n",
        "                if i in [0, 1, 6]:\n",
        "                    # if it is a binary operator\n",
        "                    # randomly change the binary operator\n",
        "                    mutated_components.append(random.choice(B))\n",
        "            else:\n",
        "                mutated_components.append(components[i])\n",
        "\n",
        "        # Tokens\n",
        "        pair1 = [mutated_components[3], mutated_components[5]]\n",
        "        pair2 = [mutated_components[8], mutated_components[10]]\n",
        "\n",
        "        # Apply unary operation\n",
        "        pair1 = [mutated_components[2] + \"(\" + pair1[0] + \")\", mutated_components[4] + \"(\" + pair1[0] + \")\"]\n",
        "        pair2 = [mutated_components[7] + \"(\" + pair2[0] + \")\", mutated_components[9] + \"(\" + pair2[0] + \")\"]\n",
        "\n",
        "        # Run B between inside pairs of T\n",
        "        pair1 = mutated_components[1] + \"(\" + pair1[0] + \",\" + pair1[1] + \")\"\n",
        "        pair2 = mutated_components[6] + \"(\" + pair2[0] + \",\" + pair2[1] + \")\"\n",
        "\n",
        "        # Run B between each pairs\n",
        "\n",
        "        mutated_heuristic = mutated_components[0] + \"(\" + pair1 + \",\" + pair2 + \")\"\n",
        "        mutated_population.append(mutated_heuristic)\n",
        "\n",
        "\n",
        "    return mutated_population\n"
      ]
    },
    {
      "cell_type": "code",
      "execution_count": null,
      "metadata": {
        "colab": {
          "base_uri": "https://localhost:8080/"
        },
        "id": "EqSq_TWJ45YJ",
        "outputId": "6b22f3ca-0e6d-4411-cceb-0ab08a81547c"
      },
      "outputs": [
        {
          "output_type": "stream",
          "name": "stdout",
          "text": [
            "Generation  0\n",
            "Average speedup is  2.387548990051251\n",
            "17.83\n",
            "Generation  1\n",
            "Average speedup is  2.18664790808294\n",
            "17.83\n",
            "Generation  2\n",
            "Average speedup is  1.9484725153250928\n",
            "17.83\n",
            "Generation  3\n",
            "Average speedup is  2.252199108967273\n",
            "17.83\n",
            "Generation  4\n",
            "Average speedup is  1.857031119150504\n",
            "17.83\n",
            "Generation  5\n",
            "Average speedup is  1.7445683850869254\n",
            "17.83\n",
            "Generation  6\n",
            "Average speedup is  1.2609034267912769\n",
            "17.83\n",
            "Generation  7\n",
            "Average speedup is  1.5774344287006328\n",
            "17.83\n",
            "Generation  8\n",
            "Average speedup is  1.0847620004689644\n",
            "17.83\n",
            "Generation  9\n",
            "Average speedup is  1.5914447459216827\n",
            "17.83\n",
            "Generation  10\n",
            "Average speedup is  0.8535909288848692\n",
            "17.83\n",
            "Generation  11\n",
            "Average speedup is  0.6582671758282251\n",
            "17.83\n",
            "Generation  12\n",
            "Average speedup is  0.8693230161122834\n",
            "17.83\n",
            "Generation  13\n",
            "Average speedup is  1.1115231300036845\n",
            "17.83\n",
            "Generation  14\n",
            "Average speedup is  1.2518875824875226\n",
            "17.83\n",
            "Generation  15\n",
            "Average speedup is  0.6048437342980605\n",
            "17.83\n",
            "Generation  16\n",
            "Average speedup is  0.9650638126821427\n",
            "17.83\n",
            "Generation  17\n",
            "Average speedup is  0.676545070847151\n",
            "17.83\n",
            "Generation  18\n",
            "Average speedup is  1.1077077680635112\n",
            "17.83\n",
            "Generation  19\n",
            "Average speedup is  0.7484055203832111\n",
            "17.83\n",
            "Generation  20\n",
            "Average speedup is  0.6835326432854318\n",
            "17.83\n",
            "Generation  21\n",
            "Average speedup is  0.7501490637456871\n",
            "17.83\n",
            "Generation  22\n",
            "Average speedup is  1.0481961611898305\n",
            "17.83\n",
            "Generation  23\n",
            "Average speedup is  0.7484658158309047\n",
            "17.83\n",
            "Generation  24\n",
            "Average speedup is  1.179727330586541\n",
            "17.83\n",
            "Generation  25\n",
            "Average speedup is  1.2514286671356314\n",
            "17.83\n",
            "Generation  26\n",
            "Average speedup is  0.7511590124945566\n",
            "17.83\n",
            "Generation  27\n",
            "Average speedup is  1.0358473185274515\n",
            "17.83\n",
            "Generation  28\n",
            "Average speedup is  1.2514286671356316\n",
            "17.83\n",
            "Generation  29\n",
            "Average speedup is  0.820265969919271\n",
            "17.83\n",
            "Generation  30\n",
            "Average speedup is  0.7413191304056543\n",
            "17.83\n",
            "Generation  31\n",
            "Average speedup is  0.7394080996884734\n",
            "17.83\n",
            "Generation  32\n",
            "Average speedup is  1.218237698053797\n",
            "17.83\n",
            "Generation  33\n",
            "Average speedup is  1.1363280072354538\n",
            "17.83\n",
            "Generation  34\n",
            "Average speedup is  0.8419455331122497\n",
            "17.83\n",
            "Generation  35\n",
            "Average speedup is  0.6885371654440089\n",
            "17.83\n",
            "Generation  36\n",
            "Average speedup is  0.7677988811844705\n",
            "17.83\n",
            "Generation  37\n",
            "Average speedup is  0.7617827354034769\n",
            "17.83\n",
            "Generation  38\n",
            "Average speedup is  1.5028807825009214\n",
            "17.83\n",
            "Generation  39\n",
            "Average speedup is  0.9974039460020765\n",
            "17.83\n",
            "Generation  40\n",
            "Average speedup is  0.98461126184973\n",
            "17.83\n",
            "Generation  41\n",
            "Average speedup is  0.5529779251666498\n",
            "17.83\n",
            "Generation  42\n",
            "Average speedup is  0.6943020801929451\n",
            "17.83\n",
            "Generation  43\n",
            "Average speedup is  1.0582219542424545\n",
            "17.83\n",
            "Generation  44\n",
            "Average speedup is  0.5394533212742435\n",
            "17.83\n",
            "Generation  45\n",
            "Average speedup is  1.2173449904532208\n",
            "17.83\n",
            "Generation  46\n",
            "Average speedup is  0.6789836867316518\n",
            "17.83\n",
            "Generation  47\n",
            "Average speedup is  1.0286403376545068\n",
            "17.83\n",
            "Generation  48\n",
            "Average speedup is  1.4335142196764143\n",
            "17.83\n",
            "Generation  49\n",
            "Average speedup is  1.0588115097310151\n",
            "17.83\n",
            "Generation  50\n",
            "Average speedup is  0.6210715840954005\n",
            "17.83\n",
            "Generation  51\n",
            "Average speedup is  0.6615633269688136\n",
            "17.83\n",
            "Generation  52\n",
            "Average speedup is  0.6152413492781292\n",
            "17.83\n",
            "Generation  53\n",
            "Average speedup is  0.8358925401132212\n",
            "17.83\n",
            "Generation  54\n",
            "Average speedup is  0.9506481760627071\n",
            "17.83\n",
            "Generation  55\n",
            "Average speedup is  1.1323317589521988\n",
            "17.83\n",
            "Generation  56\n",
            "Average speedup is  1.2147439118346564\n",
            "17.83\n",
            "Generation  57\n",
            "Average speedup is  0.613563125983988\n",
            "17.83\n",
            "Generation  58\n",
            "Average speedup is  1.2821391484942886\n",
            "17.83\n",
            "Generation  59\n",
            "Average speedup is  1.3572622516999964\n",
            "17.83\n",
            "Generation  60\n",
            "Average speedup is  0.7617827354034769\n",
            "17.83\n",
            "Generation  61\n",
            "Average speedup is  0.708062841255485\n",
            "17.83\n",
            "Generation  62\n",
            "Average speedup is  0.7623722908920374\n",
            "17.83\n",
            "Generation  63\n",
            "Average speedup is  0.6209844906709541\n",
            "17.83\n",
            "Generation  64\n",
            "Average speedup is  0.6894014001942851\n",
            "17.83\n",
            "Generation  65\n",
            "Average speedup is  1.7993200013398987\n",
            "17.83\n",
            "Generation  66\n",
            "Average speedup is  0.6876729306937325\n",
            "17.83\n",
            "Generation  67\n",
            "Average speedup is  0.6902740093122967\n",
            "17.83\n",
            "Generation  68\n",
            "Average speedup is  0.7037785147221383\n",
            "17.83\n",
            "Generation  69\n",
            "Average speedup is  0.8242186714903021\n",
            "17.83\n",
            "Generation  70\n",
            "Average speedup is  0.9548671825277187\n",
            "17.83\n",
            "Generation  71\n",
            "Average speedup is  1.0615365289920606\n",
            "17.83\n",
            "Generation  72\n",
            "Average speedup is  0.7617827354034769\n",
            "17.83\n",
            "Generation  73\n",
            "Average speedup is  0.5410913476032557\n",
            "17.83\n",
            "Generation  74\n",
            "Average speedup is  0.5394533212742435\n",
            "17.83\n",
            "Generation  75\n",
            "Average speedup is  1.1323317589521988\n",
            "17.83\n",
            "Generation  76\n",
            "Average speedup is  0.5394533212742435\n",
            "17.83\n",
            "Generation  77\n",
            "Average speedup is  0.555579003785214\n",
            "17.83\n",
            "Generation  78\n",
            "Average speedup is  1.5106840183566141\n",
            "17.83\n",
            "Generation  79\n",
            "Average speedup is  0.8358925401132212\n",
            "17.83\n",
            "Generation  80\n",
            "Average speedup is  0.5474458178407527\n",
            "17.83\n",
            "Generation  81\n",
            "Average speedup is  0.878077580142699\n",
            "17.83\n",
            "Generation  82\n",
            "Average speedup is  1.2064415636619434\n",
            "17.83\n",
            "Generation  83\n",
            "Average speedup is  0.8358925401132212\n",
            "17.83\n",
            "Generation  84\n",
            "Average speedup is  0.9306753090141691\n",
            "17.83\n",
            "Generation  85\n",
            "Average speedup is  0.541029377282015\n",
            "17.83\n",
            "Generation  86\n",
            "Average speedup is  0.9849629852946102\n",
            "17.83\n",
            "Generation  87\n",
            "Average speedup is  1.2477271965966568\n",
            "17.83\n",
            "Generation  88\n",
            "Average speedup is  0.9852158912002144\n",
            "17.83\n",
            "Generation  89\n",
            "Average speedup is  0.9847017050212707\n",
            "17.83\n",
            "Generation  90\n",
            "Average speedup is  0.688262486182293\n",
            "17.83\n",
            "Generation  91\n",
            "Average speedup is  0.6876729306937325\n",
            "17.83\n",
            "Generation  92\n",
            "Average speedup is  0.619168927745955\n",
            "17.83\n",
            "Generation  93\n",
            "Average speedup is  1.2805513683716878\n",
            "17.83\n",
            "Generation  94\n",
            "Average speedup is  0.6402271128529793\n",
            "17.83\n",
            "Generation  95\n",
            "Average speedup is  0.6876729306937325\n",
            "17.83\n",
            "Generation  96\n",
            "Average speedup is  0.8923659263725586\n",
            "17.83\n",
            "Generation  97\n",
            "Average speedup is  0.9100023448229656\n",
            "17.83\n",
            "Generation  98\n",
            "Average speedup is  1.5769905872106655\n",
            "17.83\n",
            "Generation  99\n",
            "Average speedup is  0.6158124811576723\n",
            "17.83\n"
          ]
        }
      ],
      "source": [
        "mr = 0.1\n",
        "\n",
        "\n",
        "max_generations = 100\n",
        "generations_n = 0\n",
        "global_best_heuristic = 0\n",
        "global_least_states_expanded_train = math.inf\n",
        "population_size = 30\n",
        "population = initial_population\n",
        "ES_speedups = []\n",
        "ES_std = []\n",
        "ES_champions = []\n",
        "past_speedup = 0\n",
        "champions_ES = []\n",
        "while generations_n < max_generations:\n",
        "    print(\"Generation \", generations_n)\n",
        "    fitness = evaluate_fitness(population) # contains paris (heuristic, average state expanded)\n",
        "    # print(fitness)\n",
        "\n",
        "    avg_speedup, std_speedup = calculate_avg_speedup(fitness, avg_states_expanded_manhattan)\n",
        "    print(\"Average speedup is \", avg_speedup)\n",
        "    ES_speedups.append(avg_speedup)\n",
        "    ES_std.append(std_speedup)\n",
        "\n",
        "\n",
        "    # adapting mutation rate\n",
        "    if avg_speedup > past_speedup:\n",
        "        # decrease mutation rate\n",
        "        mr = max(mr * 0.66, 0.01)\n",
        "    else:\n",
        "        # increase mutation rate\n",
        "        mr = mr * 1.5\n",
        "\n",
        "\n",
        "    parents, best_heuristic, least_states_expanded = select_parents(fitness, population_size)\n",
        "    # Check least states expanded\n",
        "    print(least_states_expanded)\n",
        "    champions_ES.append(least_states_expanded)\n",
        "    if least_states_expanded <= global_least_states_expanded_train:\n",
        "        global_best_heuristic = best_heuristic\n",
        "        global_least_states_expanded_train = least_states_expanded\n",
        "\n",
        "    ES_champions.append(avg_states_expanded_manhattan/ least_states_expanded)\n",
        "\n",
        "    population = mutate_population(parents, mr, population_size)\n",
        "\n",
        "    generations_n += 1\n",
        "\n",
        "\n",
        "\n"
      ]
    },
    {
      "cell_type": "code",
      "execution_count": null,
      "metadata": {
        "id": "SZjIK131cZot",
        "colab": {
          "base_uri": "https://localhost:8080/",
          "height": 35
        },
        "outputId": "5801ea0a-cab4-48ca-c75b-f6dee6990133"
      },
      "outputs": [
        {
          "output_type": "execute_result",
          "data": {
            "text/plain": [
              "'add(mul(square(6),nothing(delta_y)),add(sqrt(yg),nothing(delta_x)))'"
            ],
            "application/vnd.google.colaboratory.intrinsic+json": {
              "type": "string"
            }
          },
          "metadata": {},
          "execution_count": 29
        }
      ],
      "source": [
        "global_best_heuristic"
      ]
    },
    {
      "cell_type": "code",
      "execution_count": null,
      "metadata": {
        "id": "pRnu-bFyDgMQ",
        "colab": {
          "base_uri": "https://localhost:8080/"
        },
        "outputId": "7d222e0d-04bf-4f04-fb6a-08547783579a"
      },
      "outputs": [
        {
          "output_type": "execute_result",
          "data": {
            "text/plain": [
              "17.83"
            ]
          },
          "metadata": {},
          "execution_count": 30
        }
      ],
      "source": [
        "global_least_states_expanded_train"
      ]
    },
    {
      "cell_type": "code",
      "source": [
        "import matplotlib.pyplot as plt\n",
        "import numpy as np\n",
        "\n",
        "# Generate some sample data\n",
        "x = np.arange(1, 101)\n",
        "\n",
        "result_numbers = []\n",
        "for number in champions_GA:\n",
        "    result_numbers.append(39.804 / number)\n",
        "y = result_numbers\n",
        "\n",
        "\n",
        "# Plot the data\n",
        "plt.plot(x, y, label='Sine Function')\n",
        "\n",
        "# Add labels and title\n",
        "plt.xlabel('X-axis')\n",
        "plt.ylabel('Y-axis')\n",
        "plt.title('Sine Function Plot')\n",
        "\n",
        "# Add a legend\n",
        "plt.legend()\n",
        "\n",
        "# Show the plot\n",
        "plt.show()\n"
      ],
      "metadata": {
        "colab": {
          "base_uri": "https://localhost:8080/",
          "height": 472
        },
        "id": "mmVRBCP-FGw8",
        "outputId": "910a047d-1364-4fb8-fd4f-7692adb814af"
      },
      "execution_count": null,
      "outputs": [
        {
          "output_type": "display_data",
          "data": {
            "text/plain": [
              "<Figure size 640x480 with 1 Axes>"
            ],
            "image/png": "[encoded data removed]"
          },
          "metadata": {}
        }
      ]
    },
    {
      "cell_type": "code",
      "source": [
        "import matplotlib.pyplot as plt\n",
        "import numpy as np\n",
        "\n",
        "# Generate some sample data\n",
        "x = np.arange(1, 101)\n",
        "\n",
        "result_numbers = []\n",
        "for number in champions_ES:\n",
        "    result_numbers.append(39.804 / number)\n",
        "y = result_numbers\n",
        "\n",
        "\n",
        "# Plot the data\n",
        "plt.plot(x, y, label='ES')\n",
        "\n",
        "# Add labels and title\n",
        "plt.xlabel('X-axis')\n",
        "plt.ylabel('Y-axis')\n",
        "plt.title('Sine Function Plot')\n",
        "\n",
        "# Add a legend\n",
        "plt.legend()\n",
        "\n",
        "# Show the plot\n",
        "plt.show()"
      ],
      "metadata": {
        "colab": {
          "base_uri": "https://localhost:8080/",
          "height": 472
        },
        "id": "qpbZAVQXFyeZ",
        "outputId": "1c564aa1-5556-48d7-902e-9f1eff094176"
      },
      "execution_count": null,
      "outputs": [
        {
          "output_type": "display_data",
          "data": {
            "text/plain": [
              "<Figure size 640x480 with 1 Axes>"
            ],
            "image/png": "[encoded data removed]"
          },
          "metadata": {}
        }
      ]
    },
    {
      "cell_type": "code",
      "source": [
        "plt.plot([i] for i in range(0,100), champions_GA)"
      ],
      "metadata": {
        "colab": {
          "base_uri": "https://localhost:8080/",
          "height": 143
        },
        "id": "qJjz4Xd9Kq2m",
        "outputId": "dd42f1a2-fec1-4c71-9949-bb163a7d77f8"
      },
      "execution_count": null,
      "outputs": [
        {
          "output_type": "error",
          "ename": "SyntaxError",
          "evalue": "ignored",
          "traceback": [
            "\u001b[0;36m  File \u001b[0;32m\"<ipython-input-31-4f62975b7213>\"\u001b[0;36m, line \u001b[0;32m1\u001b[0m\n\u001b[0;31m    plt.plot([i] for i in range(0,100), champions_GA)\u001b[0m\n\u001b[0m             ^\u001b[0m\n\u001b[0;31mSyntaxError\u001b[0m\u001b[0;31m:\u001b[0m Generator expression must be parenthesized\n"
          ]
        }
      ]
    },
    {
      "cell_type": "code",
      "source": [
        "plt.plot([i] for i in range(0,100), champions_ES)"
      ],
      "metadata": {
        "id": "mOmxm0K4KtAh"
      },
      "execution_count": null,
      "outputs": []
    },
    {
      "cell_type": "code",
      "execution_count": null,
      "metadata": {
        "id": "YEcodT3EG243"
      },
      "outputs": [],
      "source": [
        "import pandas as pd"
      ]
    },
    {
      "cell_type": "code",
      "execution_count": null,
      "metadata": {
        "id": "hbYnaO40rXc_"
      },
      "outputs": [],
      "source": [
        "pd.DataFrame(ES_speedups).to_csv('ES_speedup6.csv', encoding='utf-8-sig')"
      ]
    },
    {
      "cell_type": "markdown",
      "metadata": {
        "id": "gQkT0Ph1eBL5"
      },
      "source": [
        "Visualizing results"
      ]
    },
    {
      "cell_type": "code",
      "execution_count": null,
      "metadata": {
        "colab": {
          "base_uri": "https://localhost:8080/",
          "height": 472
        },
        "id": "m7DtSh9-eAa6",
        "outputId": "cbdd78ac-1aa9-4539-e8a0-75a7bd195bad"
      },
      "outputs": [
        {
          "output_type": "display_data",
          "data": {
            "text/plain": [
              "<Figure size 640x480 with 1 Axes>"
            ],
            "image/png": "[encoded data removed]"
          },
          "metadata": {}
        }
      ],
      "source": [
        "import matplotlib.pyplot as plt\n",
        "import numpy as np\n",
        "\n",
        "# Generate random data for two lines\n",
        "x_values = np.arange(1, 101)  # X-axis values from 1 to 100\n",
        "\n",
        "GA_speedups[0] = 0.54\n",
        "ES_speedups[0] = 0.54\n",
        "\n",
        "# Plot the lines\n",
        "plt.plot(x_values, GA_speedups, label='GA', linestyle='-', color='b')\n",
        "plt.plot(x_values, ES_speedups, label='ES', linestyle='-', color='r')\n",
        "\n",
        "# Standard errors\n",
        "# std_error_GA = np.std(GA_speedups)/ np.sqrt(len(GA_speedups))\n",
        "# std_error_ES = np.std(ES_speedups) / np.sqrt(len(ES_speedups))\n",
        "\n",
        "\n",
        "\n",
        "# plt.errorbar(x_values, GA_speedups, yerr=std_GA, label='GA', linestyle='-', color='b')\n",
        "# plt.errorbar(x_values, ES_speedups, yerr=ES_std, label='ES', linestyle='-', color='r')\n",
        "\n",
        "\n",
        "# Add labels and title\n",
        "plt.xlabel('Generation number')\n",
        "plt.ylabel('Average speed-up')\n",
        "plt.title('Results')\n",
        "\n",
        "# Add a legend\n",
        "plt.legend()\n",
        "\n",
        "# Display the graph\n",
        "plt.show()\n"
      ]
    },
    {
      "cell_type": "code",
      "execution_count": null,
      "metadata": {
        "colab": {
          "base_uri": "https://localhost:8080/"
        },
        "id": "FLWSmLjnatfa",
        "outputId": "c94b4fba-cceb-4aa9-9527-96944a80540e"
      },
      "outputs": [
        {
          "output_type": "stream",
          "name": "stdout",
          "text": [
            "0.13988201726231486\n",
            "0.1287109343643639\n"
          ]
        }
      ],
      "source": [
        "print(np.mean(std_GA))\n",
        "print(np.mean(ES_std))"
      ]
    },
    {
      "cell_type": "code",
      "execution_count": null,
      "metadata": {
        "id": "aboIQNzdkzfi"
      },
      "outputs": [],
      "source": [
        "from scipy import stats\n"
      ]
    },
    {
      "cell_type": "code",
      "execution_count": null,
      "metadata": {
        "colab": {
          "base_uri": "https://localhost:8080/"
        },
        "id": "-PFbi4ibhHaC",
        "outputId": "31d48aab-1087-468d-d077-586738d6dd21"
      },
      "outputs": [
        {
          "output_type": "execute_result",
          "data": {
            "text/plain": [
              "0.16318627106643846"
            ]
          },
          "metadata": {},
          "execution_count": 36
        }
      ],
      "source": [
        "t_statistic, p_value = stats.ttest_ind(std_GA, ES_std)\n",
        "p_value"
      ]
    },
    {
      "cell_type": "code",
      "execution_count": null,
      "metadata": {
        "colab": {
          "base_uri": "https://localhost:8080/",
          "height": 472
        },
        "id": "U-jE4IUKmPjx",
        "outputId": "8f3628f8-f799-4b24-b825-f8b38386f14e"
      },
      "outputs": [
        {
          "output_type": "display_data",
          "data": {
            "text/plain": [
              "<Figure size 640x480 with 1 Axes>"
            ],
            "image/png": "[encoded data removed]"
          },
          "metadata": {}
        }
      ],
      "source": [
        "import numpy as np\n",
        "import matplotlib.pyplot as plt\n",
        "\n",
        "x_values = np.arange(1, 101)  # X-axis values from 1 to 100\n",
        "\n",
        "GA_speedups[0] = 0.54\n",
        "ES_speedups[0] = 0.54\n",
        "\n",
        "# Create a figure and axis\n",
        "fig, ax = plt.subplots()\n",
        "\n",
        "# Plot the data with error bars\n",
        "ax.errorbar(x_values, GA_speedups, yerr=std_GA, fmt='o', color='blue', label='Data 1', capsize=5)\n",
        "ax.errorbar(x_values, ES_speedups, yerr=ES_std, fmt='s', color='green', label='Data 2', capsize=5)\n",
        "\n",
        "# Customize error bar colors\n",
        "# You can set different colors for the upper and lower error bars\n",
        "(_, caps, _) = ax.errorbar(x_values, GA_speedups, yerr=std_GA, fmt='o', color='blue', label='Data 1', capsize=5)\n",
        "for cap in caps:\n",
        "    cap.set_color('blue')  # Set the color for the caps of the error bars\n",
        "\n",
        "(_, caps, _) = ax.errorbar(x_values, ES_speedups, yerr=ES_std, fmt='s', color='green', label='Data 2', capsize=5)\n",
        "for cap in caps:\n",
        "    cap.set_color('green')  # Set the color for the caps of the error bars\n",
        "\n",
        "# Add legend and labels\n",
        "ax.legend()\n",
        "ax.set_xlabel('X-axis')\n",
        "ax.set_ylabel('Y-axis')\n",
        "ax.set_title('Data with Different Error Bar Colors')\n",
        "\n",
        "# Show the plot\n",
        "plt.show()\n"
      ]
    },
    {
      "cell_type": "code",
      "execution_count": null,
      "metadata": {
        "colab": {
          "base_uri": "https://localhost:8080/",
          "height": 472
        },
        "id": "d8pZJyKVfAFe",
        "outputId": "51f5370f-c74f-409e-c02a-1a4833ee2846"
      },
      "outputs": [
        {
          "output_type": "display_data",
          "data": {
            "text/plain": [
              "<Figure size 640x480 with 1 Axes>"
            ],
            "image/png": "[encoded data removed]"
          },
          "metadata": {}
        }
      ],
      "source": [
        "import matplotlib.pyplot as plt\n",
        "\n",
        "# Sample data\n",
        "categories = ['Manhattan distance', 'Genetic Algortihm', 'Evolution Strategies']\n",
        "values = [1, 39.804/13.084, 39.804/16.812]\n",
        "\n",
        "# Create a bar plot\n",
        "plt.bar(categories, values, color=['blue', 'green', 'red'])\n",
        "\n",
        "# Add labels and title\n",
        "plt.xlabel('Algorithm')\n",
        "plt.ylabel('Speed-ups')\n",
        "plt.title('Best speed-up for each algorithm')\n",
        "\n",
        "# Show the plot\n",
        "plt.show()\n"
      ]
    },
    {
      "cell_type": "markdown",
      "metadata": {
        "id": "mglbwJz868vu"
      },
      "source": [
        "GA best ![image.png](data:image/png;base64,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)"
      ]
    },
    {
      "cell_type": "markdown",
      "metadata": {
        "id": "ltA2GPH_6_Iv"
      },
      "source": [
        "ES best ![image.png](data:image/png;base64,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)"
      ]
    },
    {
      "cell_type": "code",
      "execution_count": null,
      "metadata": {
        "colab": {
          "base_uri": "https://localhost:8080/"
        },
        "id": "tc_KHnjG6-de",
        "outputId": "229a64f8-da54-4681-97c3-99414e46be70"
      },
      "outputs": [
        {
          "output_type": "execute_result",
          "data": {
            "text/plain": [
              "[2.232417274256871,\n",
              " 2.232417274256871,\n",
              " 2.232417274256871,\n",
              " 2.232417274256871,\n",
              " 2.232417274256871,\n",
              " 2.232417274256871,\n",
              " 2.232417274256871,\n",
              " 2.232417274256871,\n",
              " 2.232417274256871,\n",
              " 2.396099205393692,\n",
              " 2.396099205393692,\n",
              " 2.396099205393692,\n",
              " 2.4713771265366944,\n",
              " 2.4713771265366944,\n",
              " 2.4713771265366944,\n",
              " 2.6493610223642174,\n",
              " 2.6493610223642174,\n",
              " 2.6493610223642174,\n",
              " 2.6493610223642174,\n",
              " 2.7084921066956995,\n",
              " 2.7084921066956995,\n",
              " 2.7084921066956995,\n",
              " 3.028301886792453,\n",
              " 3.028301886792453,\n",
              " 3.028301886792453,\n",
              " 3.028301886792453,\n",
              " 3.028301886792453,\n",
              " 3.028301886792453,\n",
              " 3.028301886792453,\n",
              " 3.028301886792453,\n",
              " 3.028301886792453,\n",
              " 3.028301886792453,\n",
              " 3.028301886792453,\n",
              " 3.028301886792453,\n",
              " 3.028301886792453,\n",
              " 3.028301886792453,\n",
              " 3.028301886792453,\n",
              " 3.028301886792453,\n",
              " 3.028301886792453,\n",
              " 3.028301886792453,\n",
              " 3.028301886792453,\n",
              " 3.028301886792453,\n",
              " 3.028301886792453,\n",
              " 3.028301886792453,\n",
              " 3.028301886792453,\n",
              " 3.028301886792453,\n",
              " 3.028301886792453,\n",
              " 3.028301886792453,\n",
              " 3.028301886792453,\n",
              " 3.028301886792453,\n",
              " 3.028301886792453,\n",
              " 3.028301886792453,\n",
              " 3.028301886792453,\n",
              " 3.028301886792453,\n",
              " 3.028301886792453,\n",
              " 3.028301886792453,\n",
              " 3.028301886792453,\n",
              " 3.028301886792453,\n",
              " 3.028301886792453,\n",
              " 3.028301886792453,\n",
              " 3.028301886792453,\n",
              " 3.028301886792453,\n",
              " 3.028301886792453,\n",
              " 3.028301886792453,\n",
              " 3.028301886792453,\n",
              " 3.028301886792453,\n",
              " 3.028301886792453,\n",
              " 3.028301886792453,\n",
              " 3.028301886792453,\n",
              " 3.028301886792453,\n",
              " 3.028301886792453,\n",
              " 3.028301886792453,\n",
              " 3.028301886792453,\n",
              " 3.028301886792453,\n",
              " 3.028301886792453,\n",
              " 3.028301886792453,\n",
              " 3.028301886792453,\n",
              " 3.028301886792453,\n",
              " 3.028301886792453,\n",
              " 3.028301886792453,\n",
              " 3.028301886792453,\n",
              " 3.028301886792453,\n",
              " 3.028301886792453,\n",
              " 3.028301886792453,\n",
              " 3.028301886792453,\n",
              " 3.028301886792453,\n",
              " 3.028301886792453,\n",
              " 3.028301886792453,\n",
              " 3.028301886792453,\n",
              " 3.028301886792453,\n",
              " 3.028301886792453,\n",
              " 3.028301886792453,\n",
              " 3.028301886792453,\n",
              " 3.028301886792453,\n",
              " 3.028301886792453,\n",
              " 3.028301886792453,\n",
              " 3.028301886792453,\n",
              " 3.028301886792453,\n",
              " 3.028301886792453,\n",
              " 3.028301886792453]"
            ]
          },
          "metadata": {},
          "execution_count": 39
        }
      ],
      "source": [
        "GA_champions"
      ]
    },
    {
      "cell_type": "code",
      "execution_count": null,
      "metadata": {
        "colab": {
          "base_uri": "https://localhost:8080/"
        },
        "id": "YOWreLRIP34g",
        "outputId": "2996c61c-e730-4bd0-cebf-f143556d33bd"
      },
      "outputs": [
        {
          "output_type": "execute_result",
          "data": {
            "text/plain": [
              "[2.232417274256871,\n",
              " 2.232417274256871,\n",
              " 2.232417274256871,\n",
              " 2.232417274256871,\n",
              " 2.232417274256871,\n",
              " 2.232417274256871,\n",
              " 2.232417274256871,\n",
              " 2.232417274256871,\n",
              " 2.232417274256871,\n",
              " 2.232417274256871,\n",
              " 2.232417274256871,\n",
              " 2.232417274256871,\n",
              " 2.232417274256871,\n",
              " 2.232417274256871,\n",
              " 2.232417274256871,\n",
              " 2.232417274256871,\n",
              " 2.232417274256871,\n",
              " 2.232417274256871,\n",
              " 2.232417274256871,\n",
              " 2.232417274256871,\n",
              " 2.232417274256871,\n",
              " 2.232417274256871,\n",
              " 2.232417274256871,\n",
              " 2.232417274256871,\n",
              " 2.232417274256871,\n",
              " 2.232417274256871,\n",
              " 2.232417274256871,\n",
              " 2.232417274256871,\n",
              " 2.232417274256871,\n",
              " 2.232417274256871,\n",
              " 2.232417274256871,\n",
              " 2.232417274256871,\n",
              " 2.232417274256871,\n",
              " 2.232417274256871,\n",
              " 2.232417274256871,\n",
              " 2.232417274256871,\n",
              " 2.232417274256871,\n",
              " 2.232417274256871,\n",
              " 2.232417274256871,\n",
              " 2.232417274256871,\n",
              " 2.232417274256871,\n",
              " 2.232417274256871,\n",
              " 2.232417274256871,\n",
              " 2.232417274256871,\n",
              " 2.232417274256871,\n",
              " 2.232417274256871,\n",
              " 2.232417274256871,\n",
              " 2.232417274256871,\n",
              " 2.232417274256871,\n",
              " 2.232417274256871,\n",
              " 2.232417274256871,\n",
              " 2.232417274256871,\n",
              " 2.232417274256871,\n",
              " 2.232417274256871,\n",
              " 2.232417274256871,\n",
              " 2.232417274256871,\n",
              " 2.232417274256871,\n",
              " 2.232417274256871,\n",
              " 2.232417274256871,\n",
              " 2.232417274256871,\n",
              " 2.232417274256871,\n",
              " 2.232417274256871,\n",
              " 2.232417274256871,\n",
              " 2.232417274256871,\n",
              " 2.232417274256871,\n",
              " 2.232417274256871,\n",
              " 2.232417274256871,\n",
              " 2.232417274256871,\n",
              " 2.232417274256871,\n",
              " 2.232417274256871,\n",
              " 2.232417274256871,\n",
              " 2.232417274256871,\n",
              " 2.232417274256871,\n",
              " 2.232417274256871,\n",
              " 2.232417274256871,\n",
              " 2.232417274256871,\n",
              " 2.232417274256871,\n",
              " 2.232417274256871,\n",
              " 2.232417274256871,\n",
              " 2.232417274256871,\n",
              " 2.232417274256871,\n",
              " 2.232417274256871,\n",
              " 2.232417274256871,\n",
              " 2.232417274256871,\n",
              " 2.232417274256871,\n",
              " 2.232417274256871,\n",
              " 2.232417274256871,\n",
              " 2.232417274256871,\n",
              " 2.232417274256871,\n",
              " 2.232417274256871,\n",
              " 2.232417274256871,\n",
              " 2.232417274256871,\n",
              " 2.232417274256871,\n",
              " 2.232417274256871,\n",
              " 2.232417274256871,\n",
              " 2.232417274256871,\n",
              " 2.232417274256871,\n",
              " 2.232417274256871,\n",
              " 2.232417274256871,\n",
              " 2.232417274256871]"
            ]
          },
          "metadata": {},
          "execution_count": 40
        }
      ],
      "source": [
        "ES_champions"
      ]
    },
    {
      "cell_type": "code",
      "execution_count": null,
      "metadata": {
        "colab": {
          "base_uri": "https://localhost:8080/",
          "height": 472
        },
        "id": "6zONDKfzY9WL",
        "outputId": "20ec1477-ead6-423e-f3b0-f47a77a45c9b"
      },
      "outputs": [
        {
          "output_type": "display_data",
          "data": {
            "text/plain": [
              "<Figure size 640x480 with 1 Axes>"
            ],
            "image/png": "[encoded data removed]"
          },
          "metadata": {}
        }
      ],
      "source": [
        "plt.plot(x_values, GA_champions, label='GA', linestyle='-', color='b')\n",
        "plt.plot(x_values, ES_champions, label='ES', linestyle='-', color='r')\n",
        "\n",
        "plt.xlabel('Generation number')\n",
        "plt.ylabel('Speed-up')\n",
        "plt.title('Champions')\n",
        "\n",
        "# Add a legend\n",
        "plt.legend()\n",
        "\n",
        "# Display the graph\n",
        "plt.show()"
      ]
    }
  ],
  "metadata": {
    "colab": {
      "provenance": [],
      "include_colab_link": true
    },
    "kernelspec": {
      "display_name": "Python 3",
      "name": "python3"
    },
    "language_info": {
      "name": "python"
    }
  },
  "nbformat": 4,
  "nbformat_minor": 0
}